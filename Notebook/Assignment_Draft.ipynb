{
 "cells": [
  {
   "cell_type": "markdown",
   "id": "33df158b-2fbe-47cf-8b55-2eab894a814a",
   "metadata": {},
   "source": [
    "# Pesticide Use Analysis in Southern Africa (1990-2023)\n",
    "\n",
    "## Table of Contents\n",
    "1. Data Loading and Initial Exploration\n",
    "2. Data Cleaning & Preparation\n",
    "3. Data Quality Assessment\n",
    "4. Data Transformation & Merging\n",
    "5. Exploratory Data Analysis (EDA) & Statistical Analysis\n",
    "6. Exporting Results (Excel, CSV)\n",
    "7. Data Visualization\n",
    "8. Database Integration (SQLite)"
   ]
  },
  {
   "cell_type": "markdown",
   "id": "82ee939c-4d5e-4273-8eed-ac61a7390fbd",
   "metadata": {},
   "source": [
    "This notebook analyzes pesticide use patterns across Southern African countries over a 33-year period (1990-2023). The analysis focuses on South Africa and its surrounding countries, examining both pesticide use intensity (kg/ha) and total consumption (tonnes).\n",
    "\n",
    "**Objectives:**\n",
    "1. Clean and prepare the data for analysis\n",
    "2. Identify trends and patterns in pesticide use\n",
    "3. Compare countries within the region\n",
    "4. Analyze different types of pesticides\n",
    "5. Create visualizations to tell the story of agricultural intensification"
   ]
  },
  {
   "cell_type": "markdown",
   "id": "b263391e-e15c-4ffe-83fb-8e99dff342c1",
   "metadata": {},
   "source": [
    "## 1. Data Loading and Initial Exploration"
   ]
  },
  {
   "cell_type": "code",
   "execution_count": 1,
   "id": "4facfbf8-7a2c-4774-a702-83cf2fd185fc",
   "metadata": {},
   "outputs": [
    {
     "name": "stdout",
     "output_type": "stream",
     "text": [
      "Files have been loaded successfully!\n",
      "\n",
      "==================================================\n",
      "PESTICIDE USE PER CROP LAND AREA\n",
      "==================================================\n",
      "Shape: (199, 37)\n",
      "Columns: ['REF_AREA_LABEL', 'INDICATOR_LABEL', 'UNIT_MEASURE_LABEL', '1990', '1991', '1992', '1993', '1994', '1995', '1996', '1997', '1998', '1999', '2000', '2001', '2002', '2003', '2004', '2005', '2006', '2007', '2008', '2009', '2010', '2011', '2012', '2013', '2014', '2015', '2016', '2017', '2018', '2019', '2020', '2021', '2022', '2023']\n",
      "\n",
      "First 5 rows:\n"
     ]
    },
    {
     "data": {
      "text/html": [
       "<div>\n",
       "<style scoped>\n",
       "    .dataframe tbody tr th:only-of-type {\n",
       "        vertical-align: middle;\n",
       "    }\n",
       "\n",
       "    .dataframe tbody tr th {\n",
       "        vertical-align: top;\n",
       "    }\n",
       "\n",
       "    .dataframe thead th {\n",
       "        text-align: right;\n",
       "    }\n",
       "</style>\n",
       "<table border=\"1\" class=\"dataframe\">\n",
       "  <thead>\n",
       "    <tr style=\"text-align: right;\">\n",
       "      <th></th>\n",
       "      <th>REF_AREA_LABEL</th>\n",
       "      <th>INDICATOR_LABEL</th>\n",
       "      <th>UNIT_MEASURE_LABEL</th>\n",
       "      <th>1990</th>\n",
       "      <th>1991</th>\n",
       "      <th>1992</th>\n",
       "      <th>1993</th>\n",
       "      <th>1994</th>\n",
       "      <th>1995</th>\n",
       "      <th>1996</th>\n",
       "      <th>1997</th>\n",
       "      <th>1998</th>\n",
       "      <th>1999</th>\n",
       "      <th>2000</th>\n",
       "      <th>2001</th>\n",
       "      <th>2002</th>\n",
       "      <th>2003</th>\n",
       "      <th>2004</th>\n",
       "      <th>2005</th>\n",
       "      <th>2006</th>\n",
       "      <th>2007</th>\n",
       "      <th>2008</th>\n",
       "      <th>2009</th>\n",
       "      <th>2010</th>\n",
       "      <th>2011</th>\n",
       "      <th>2012</th>\n",
       "      <th>2013</th>\n",
       "      <th>2014</th>\n",
       "      <th>2015</th>\n",
       "      <th>2016</th>\n",
       "      <th>2017</th>\n",
       "      <th>2018</th>\n",
       "      <th>2019</th>\n",
       "      <th>2020</th>\n",
       "      <th>2021</th>\n",
       "      <th>2022</th>\n",
       "      <th>2023</th>\n",
       "    </tr>\n",
       "  </thead>\n",
       "  <tbody>\n",
       "    <tr>\n",
       "      <th>0</th>\n",
       "      <td>Angola</td>\n",
       "      <td>Pesticides Use per area of cropland</td>\n",
       "      <td>Kilogram per hectare</td>\n",
       "      <td>0.02</td>\n",
       "      <td>0.03</td>\n",
       "      <td>0.01</td>\n",
       "      <td>0.05</td>\n",
       "      <td>0.03</td>\n",
       "      <td>0.11</td>\n",
       "      <td>0.01</td>\n",
       "      <td>0.01</td>\n",
       "      <td>0.01</td>\n",
       "      <td>0.01</td>\n",
       "      <td>0.01</td>\n",
       "      <td>0.01</td>\n",
       "      <td>0.01</td>\n",
       "      <td>0.01</td>\n",
       "      <td>0.01</td>\n",
       "      <td>0.01</td>\n",
       "      <td>0.01</td>\n",
       "      <td>0.01</td>\n",
       "      <td>0.01</td>\n",
       "      <td>0.01</td>\n",
       "      <td>0.01</td>\n",
       "      <td>0.01</td>\n",
       "      <td>0.01</td>\n",
       "      <td>0.01</td>\n",
       "      <td>0.01</td>\n",
       "      <td>0.01</td>\n",
       "      <td>0.01</td>\n",
       "      <td>0.01</td>\n",
       "      <td>0.01</td>\n",
       "      <td>0.01</td>\n",
       "      <td>0.01</td>\n",
       "      <td>0.01</td>\n",
       "      <td>0.01</td>\n",
       "      <td>0.01</td>\n",
       "    </tr>\n",
       "    <tr>\n",
       "      <th>1</th>\n",
       "      <td>Albania</td>\n",
       "      <td>Pesticides Use per area of cropland</td>\n",
       "      <td>Kilogram per hectare</td>\n",
       "      <td>0.17</td>\n",
       "      <td>0.17</td>\n",
       "      <td>0.17</td>\n",
       "      <td>0.17</td>\n",
       "      <td>0.29</td>\n",
       "      <td>0.36</td>\n",
       "      <td>0.37</td>\n",
       "      <td>0.39</td>\n",
       "      <td>0.41</td>\n",
       "      <td>0.42</td>\n",
       "      <td>0.44</td>\n",
       "      <td>0.46</td>\n",
       "      <td>0.47</td>\n",
       "      <td>0.49</td>\n",
       "      <td>0.51</td>\n",
       "      <td>0.55</td>\n",
       "      <td>0.53</td>\n",
       "      <td>0.56</td>\n",
       "      <td>0.57</td>\n",
       "      <td>0.59</td>\n",
       "      <td>0.85</td>\n",
       "      <td>0.84</td>\n",
       "      <td>0.52</td>\n",
       "      <td>0.65</td>\n",
       "      <td>0.66</td>\n",
       "      <td>0.77</td>\n",
       "      <td>0.83</td>\n",
       "      <td>0.88</td>\n",
       "      <td>0.64</td>\n",
       "      <td>1.07</td>\n",
       "      <td>0.58</td>\n",
       "      <td>0.63</td>\n",
       "      <td>0.43</td>\n",
       "      <td>0.44</td>\n",
       "    </tr>\n",
       "    <tr>\n",
       "      <th>2</th>\n",
       "      <td>Andorra</td>\n",
       "      <td>Pesticides Use per area of cropland</td>\n",
       "      <td>Kilogram per hectare</td>\n",
       "      <td>14.12</td>\n",
       "      <td>14.12</td>\n",
       "      <td>14.12</td>\n",
       "      <td>14.12</td>\n",
       "      <td>14.12</td>\n",
       "      <td>12.82</td>\n",
       "      <td>12.33</td>\n",
       "      <td>14.17</td>\n",
       "      <td>15.40</td>\n",
       "      <td>15.12</td>\n",
       "      <td>18.55</td>\n",
       "      <td>24.00</td>\n",
       "      <td>21.68</td>\n",
       "      <td>13.66</td>\n",
       "      <td>14.55</td>\n",
       "      <td>15.50</td>\n",
       "      <td>18.69</td>\n",
       "      <td>19.50</td>\n",
       "      <td>19.65</td>\n",
       "      <td>17.39</td>\n",
       "      <td>16.52</td>\n",
       "      <td>17.45</td>\n",
       "      <td>18.01</td>\n",
       "      <td>21.31</td>\n",
       "      <td>19.28</td>\n",
       "      <td>20.10</td>\n",
       "      <td>16.33</td>\n",
       "      <td>16.99</td>\n",
       "      <td>16.25</td>\n",
       "      <td>17.97</td>\n",
       "      <td>20.92</td>\n",
       "      <td>22.88</td>\n",
       "      <td>22.27</td>\n",
       "      <td>21.55</td>\n",
       "    </tr>\n",
       "    <tr>\n",
       "      <th>3</th>\n",
       "      <td>Netherlands Antilles</td>\n",
       "      <td>Pesticides Use per area of cropland</td>\n",
       "      <td>Kilogram per hectare</td>\n",
       "      <td>23.13</td>\n",
       "      <td>23.85</td>\n",
       "      <td>24.75</td>\n",
       "      <td>25.85</td>\n",
       "      <td>26.42</td>\n",
       "      <td>26.99</td>\n",
       "      <td>27.55</td>\n",
       "      <td>28.12</td>\n",
       "      <td>28.69</td>\n",
       "      <td>29.26</td>\n",
       "      <td>29.83</td>\n",
       "      <td>30.39</td>\n",
       "      <td>30.96</td>\n",
       "      <td>32.11</td>\n",
       "      <td>33.85</td>\n",
       "      <td>33.36</td>\n",
       "      <td>31.11</td>\n",
       "      <td>28.97</td>\n",
       "      <td>28.87</td>\n",
       "      <td>29.75</td>\n",
       "      <td>29.75</td>\n",
       "      <td>NaN</td>\n",
       "      <td>NaN</td>\n",
       "      <td>NaN</td>\n",
       "      <td>NaN</td>\n",
       "      <td>NaN</td>\n",
       "      <td>NaN</td>\n",
       "      <td>NaN</td>\n",
       "      <td>NaN</td>\n",
       "      <td>NaN</td>\n",
       "      <td>NaN</td>\n",
       "      <td>NaN</td>\n",
       "      <td>NaN</td>\n",
       "      <td>NaN</td>\n",
       "    </tr>\n",
       "    <tr>\n",
       "      <th>4</th>\n",
       "      <td>Argentina</td>\n",
       "      <td>Pesticides Use per area of cropland</td>\n",
       "      <td>Kilogram per hectare</td>\n",
       "      <td>0.95</td>\n",
       "      <td>0.94</td>\n",
       "      <td>0.94</td>\n",
       "      <td>0.94</td>\n",
       "      <td>1.08</td>\n",
       "      <td>1.35</td>\n",
       "      <td>1.93</td>\n",
       "      <td>2.74</td>\n",
       "      <td>2.19</td>\n",
       "      <td>2.57</td>\n",
       "      <td>2.94</td>\n",
       "      <td>3.31</td>\n",
       "      <td>3.67</td>\n",
       "      <td>3.79</td>\n",
       "      <td>3.90</td>\n",
       "      <td>3.99</td>\n",
       "      <td>4.09</td>\n",
       "      <td>4.92</td>\n",
       "      <td>5.55</td>\n",
       "      <td>3.95</td>\n",
       "      <td>6.04</td>\n",
       "      <td>5.57</td>\n",
       "      <td>5.32</td>\n",
       "      <td>5.25</td>\n",
       "      <td>5.20</td>\n",
       "      <td>4.93</td>\n",
       "      <td>4.87</td>\n",
       "      <td>4.74</td>\n",
       "      <td>4.19</td>\n",
       "      <td>5.76</td>\n",
       "      <td>5.62</td>\n",
       "      <td>6.06</td>\n",
       "      <td>5.94</td>\n",
       "      <td>6.33</td>\n",
       "    </tr>\n",
       "  </tbody>\n",
       "</table>\n",
       "</div>"
      ],
      "text/plain": [
       "         REF_AREA_LABEL                      INDICATOR_LABEL  \\\n",
       "0                Angola  Pesticides Use per area of cropland   \n",
       "1               Albania  Pesticides Use per area of cropland   \n",
       "2               Andorra  Pesticides Use per area of cropland   \n",
       "3  Netherlands Antilles  Pesticides Use per area of cropland   \n",
       "4             Argentina  Pesticides Use per area of cropland   \n",
       "\n",
       "     UNIT_MEASURE_LABEL   1990   1991   1992   1993   1994   1995   1996  \\\n",
       "0  Kilogram per hectare   0.02   0.03   0.01   0.05   0.03   0.11   0.01   \n",
       "1  Kilogram per hectare   0.17   0.17   0.17   0.17   0.29   0.36   0.37   \n",
       "2  Kilogram per hectare  14.12  14.12  14.12  14.12  14.12  12.82  12.33   \n",
       "3  Kilogram per hectare  23.13  23.85  24.75  25.85  26.42  26.99  27.55   \n",
       "4  Kilogram per hectare   0.95   0.94   0.94   0.94   1.08   1.35   1.93   \n",
       "\n",
       "    1997   1998   1999   2000   2001   2002   2003   2004   2005   2006  \\\n",
       "0   0.01   0.01   0.01   0.01   0.01   0.01   0.01   0.01   0.01   0.01   \n",
       "1   0.39   0.41   0.42   0.44   0.46   0.47   0.49   0.51   0.55   0.53   \n",
       "2  14.17  15.40  15.12  18.55  24.00  21.68  13.66  14.55  15.50  18.69   \n",
       "3  28.12  28.69  29.26  29.83  30.39  30.96  32.11  33.85  33.36  31.11   \n",
       "4   2.74   2.19   2.57   2.94   3.31   3.67   3.79   3.90   3.99   4.09   \n",
       "\n",
       "    2007   2008   2009   2010   2011   2012   2013   2014   2015   2016  \\\n",
       "0   0.01   0.01   0.01   0.01   0.01   0.01   0.01   0.01   0.01   0.01   \n",
       "1   0.56   0.57   0.59   0.85   0.84   0.52   0.65   0.66   0.77   0.83   \n",
       "2  19.50  19.65  17.39  16.52  17.45  18.01  21.31  19.28  20.10  16.33   \n",
       "3  28.97  28.87  29.75  29.75    NaN    NaN    NaN    NaN    NaN    NaN   \n",
       "4   4.92   5.55   3.95   6.04   5.57   5.32   5.25   5.20   4.93   4.87   \n",
       "\n",
       "    2017   2018   2019   2020   2021   2022   2023  \n",
       "0   0.01   0.01   0.01   0.01   0.01   0.01   0.01  \n",
       "1   0.88   0.64   1.07   0.58   0.63   0.43   0.44  \n",
       "2  16.99  16.25  17.97  20.92  22.88  22.27  21.55  \n",
       "3    NaN    NaN    NaN    NaN    NaN    NaN    NaN  \n",
       "4   4.74   4.19   5.76   5.62   6.06   5.94   6.33  "
      ]
     },
     "metadata": {},
     "output_type": "display_data"
    },
    {
     "name": "stdout",
     "output_type": "stream",
     "text": [
      "\n",
      "==================================================\n",
      "PESTICIDE USE\n",
      "==================================================\n",
      "Shape: (839, 38)\n",
      "Columns: ['REF_AREA_LABEL', 'INDICATOR_LABEL', 'UNIT_MEASURE_LABEL', 'ITEM_LABEL', '1990', '1991', '1992', '1993', '1994', '1995', '1996', '1997', '1998', '1999', '2000', '2001', '2002', '2003', '2004', '2005', '2006', '2007', '2008', '2009', '2010', '2011', '2012', '2013', '2014', '2015', '2016', '2017', '2018', '2019', '2020', '2021', '2022', '2023']\n",
      "\n",
      "First 5 rows:\n"
     ]
    },
    {
     "data": {
      "text/html": [
       "<div>\n",
       "<style scoped>\n",
       "    .dataframe tbody tr th:only-of-type {\n",
       "        vertical-align: middle;\n",
       "    }\n",
       "\n",
       "    .dataframe tbody tr th {\n",
       "        vertical-align: top;\n",
       "    }\n",
       "\n",
       "    .dataframe thead th {\n",
       "        text-align: right;\n",
       "    }\n",
       "</style>\n",
       "<table border=\"1\" class=\"dataframe\">\n",
       "  <thead>\n",
       "    <tr style=\"text-align: right;\">\n",
       "      <th></th>\n",
       "      <th>REF_AREA_LABEL</th>\n",
       "      <th>INDICATOR_LABEL</th>\n",
       "      <th>UNIT_MEASURE_LABEL</th>\n",
       "      <th>ITEM_LABEL</th>\n",
       "      <th>1990</th>\n",
       "      <th>1991</th>\n",
       "      <th>1992</th>\n",
       "      <th>1993</th>\n",
       "      <th>1994</th>\n",
       "      <th>1995</th>\n",
       "      <th>1996</th>\n",
       "      <th>1997</th>\n",
       "      <th>1998</th>\n",
       "      <th>1999</th>\n",
       "      <th>2000</th>\n",
       "      <th>2001</th>\n",
       "      <th>2002</th>\n",
       "      <th>2003</th>\n",
       "      <th>2004</th>\n",
       "      <th>2005</th>\n",
       "      <th>2006</th>\n",
       "      <th>2007</th>\n",
       "      <th>2008</th>\n",
       "      <th>2009</th>\n",
       "      <th>2010</th>\n",
       "      <th>2011</th>\n",
       "      <th>2012</th>\n",
       "      <th>2013</th>\n",
       "      <th>2014</th>\n",
       "      <th>2015</th>\n",
       "      <th>2016</th>\n",
       "      <th>2017</th>\n",
       "      <th>2018</th>\n",
       "      <th>2019</th>\n",
       "      <th>2020</th>\n",
       "      <th>2021</th>\n",
       "      <th>2022</th>\n",
       "      <th>2023</th>\n",
       "    </tr>\n",
       "  </thead>\n",
       "  <tbody>\n",
       "    <tr>\n",
       "      <th>0</th>\n",
       "      <td>Aruba</td>\n",
       "      <td>Pesticides Agricultural Use</td>\n",
       "      <td>Tonnes</td>\n",
       "      <td>Item: Insecticides</td>\n",
       "      <td>34.0</td>\n",
       "      <td>36.0</td>\n",
       "      <td>39.0</td>\n",
       "      <td>44.0</td>\n",
       "      <td>49.0</td>\n",
       "      <td>54.0</td>\n",
       "      <td>58.0</td>\n",
       "      <td>60.0</td>\n",
       "      <td>61.0</td>\n",
       "      <td>62.0</td>\n",
       "      <td>63.0</td>\n",
       "      <td>65.0</td>\n",
       "      <td>67.0</td>\n",
       "      <td>70.0</td>\n",
       "      <td>73.0</td>\n",
       "      <td>75.0</td>\n",
       "      <td>77.0</td>\n",
       "      <td>78.0</td>\n",
       "      <td>80.0</td>\n",
       "      <td>81.0</td>\n",
       "      <td>82.0</td>\n",
       "      <td>76.0</td>\n",
       "      <td>69.0</td>\n",
       "      <td>62.0</td>\n",
       "      <td>59.0</td>\n",
       "      <td>67.0</td>\n",
       "      <td>66.0</td>\n",
       "      <td>65.0</td>\n",
       "      <td>53.0</td>\n",
       "      <td>55.0</td>\n",
       "      <td>62.0</td>\n",
       "      <td>66.0</td>\n",
       "      <td>64.0</td>\n",
       "      <td>60.0</td>\n",
       "    </tr>\n",
       "    <tr>\n",
       "      <th>1</th>\n",
       "      <td>Aruba</td>\n",
       "      <td>Pesticides Agricultural Use</td>\n",
       "      <td>Tonnes</td>\n",
       "      <td>Item: Herbicides</td>\n",
       "      <td>74.0</td>\n",
       "      <td>78.0</td>\n",
       "      <td>84.0</td>\n",
       "      <td>95.0</td>\n",
       "      <td>105.0</td>\n",
       "      <td>116.0</td>\n",
       "      <td>127.0</td>\n",
       "      <td>138.0</td>\n",
       "      <td>148.0</td>\n",
       "      <td>160.0</td>\n",
       "      <td>175.0</td>\n",
       "      <td>190.0</td>\n",
       "      <td>206.0</td>\n",
       "      <td>219.0</td>\n",
       "      <td>233.0</td>\n",
       "      <td>248.0</td>\n",
       "      <td>267.0</td>\n",
       "      <td>287.0</td>\n",
       "      <td>306.0</td>\n",
       "      <td>325.0</td>\n",
       "      <td>339.0</td>\n",
       "      <td>322.0</td>\n",
       "      <td>298.0</td>\n",
       "      <td>267.0</td>\n",
       "      <td>253.0</td>\n",
       "      <td>293.0</td>\n",
       "      <td>294.0</td>\n",
       "      <td>299.0</td>\n",
       "      <td>248.0</td>\n",
       "      <td>258.0</td>\n",
       "      <td>292.0</td>\n",
       "      <td>314.0</td>\n",
       "      <td>307.0</td>\n",
       "      <td>287.0</td>\n",
       "    </tr>\n",
       "    <tr>\n",
       "      <th>2</th>\n",
       "      <td>Aruba</td>\n",
       "      <td>Pesticides Agricultural Use</td>\n",
       "      <td>Tonnes</td>\n",
       "      <td>Item: Fungicides and Bactericides</td>\n",
       "      <td>18.0</td>\n",
       "      <td>19.0</td>\n",
       "      <td>21.0</td>\n",
       "      <td>24.0</td>\n",
       "      <td>26.0</td>\n",
       "      <td>28.0</td>\n",
       "      <td>31.0</td>\n",
       "      <td>35.0</td>\n",
       "      <td>39.0</td>\n",
       "      <td>41.0</td>\n",
       "      <td>43.0</td>\n",
       "      <td>43.0</td>\n",
       "      <td>45.0</td>\n",
       "      <td>47.0</td>\n",
       "      <td>51.0</td>\n",
       "      <td>55.0</td>\n",
       "      <td>57.0</td>\n",
       "      <td>60.0</td>\n",
       "      <td>64.0</td>\n",
       "      <td>70.0</td>\n",
       "      <td>74.0</td>\n",
       "      <td>69.0</td>\n",
       "      <td>62.0</td>\n",
       "      <td>55.0</td>\n",
       "      <td>53.0</td>\n",
       "      <td>63.0</td>\n",
       "      <td>66.0</td>\n",
       "      <td>69.0</td>\n",
       "      <td>59.0</td>\n",
       "      <td>63.0</td>\n",
       "      <td>73.0</td>\n",
       "      <td>79.0</td>\n",
       "      <td>77.0</td>\n",
       "      <td>72.0</td>\n",
       "    </tr>\n",
       "    <tr>\n",
       "      <th>3</th>\n",
       "      <td>Aruba</td>\n",
       "      <td>Pesticides Agricultural Use</td>\n",
       "      <td>Tonnes</td>\n",
       "      <td>Item: Pesticides (total)</td>\n",
       "      <td>148.0</td>\n",
       "      <td>155.0</td>\n",
       "      <td>169.0</td>\n",
       "      <td>190.0</td>\n",
       "      <td>211.0</td>\n",
       "      <td>232.0</td>\n",
       "      <td>253.0</td>\n",
       "      <td>274.0</td>\n",
       "      <td>294.0</td>\n",
       "      <td>315.0</td>\n",
       "      <td>336.0</td>\n",
       "      <td>357.0</td>\n",
       "      <td>378.0</td>\n",
       "      <td>399.0</td>\n",
       "      <td>420.0</td>\n",
       "      <td>441.0</td>\n",
       "      <td>461.0</td>\n",
       "      <td>482.0</td>\n",
       "      <td>503.0</td>\n",
       "      <td>525.0</td>\n",
       "      <td>538.0</td>\n",
       "      <td>502.0</td>\n",
       "      <td>459.0</td>\n",
       "      <td>410.0</td>\n",
       "      <td>391.0</td>\n",
       "      <td>454.0</td>\n",
       "      <td>459.0</td>\n",
       "      <td>467.0</td>\n",
       "      <td>388.0</td>\n",
       "      <td>404.0</td>\n",
       "      <td>458.0</td>\n",
       "      <td>491.0</td>\n",
       "      <td>480.0</td>\n",
       "      <td>449.0</td>\n",
       "    </tr>\n",
       "    <tr>\n",
       "      <th>4</th>\n",
       "      <td>Angola</td>\n",
       "      <td>Pesticides Agricultural Use</td>\n",
       "      <td>Tonnes</td>\n",
       "      <td>Item: Insecticides</td>\n",
       "      <td>56.0</td>\n",
       "      <td>74.0</td>\n",
       "      <td>13.0</td>\n",
       "      <td>153.0</td>\n",
       "      <td>22.0</td>\n",
       "      <td>205.0</td>\n",
       "      <td>37.0</td>\n",
       "      <td>37.0</td>\n",
       "      <td>37.0</td>\n",
       "      <td>37.0</td>\n",
       "      <td>37.0</td>\n",
       "      <td>37.0</td>\n",
       "      <td>37.0</td>\n",
       "      <td>37.0</td>\n",
       "      <td>37.0</td>\n",
       "      <td>37.0</td>\n",
       "      <td>37.0</td>\n",
       "      <td>37.0</td>\n",
       "      <td>37.0</td>\n",
       "      <td>37.0</td>\n",
       "      <td>37.0</td>\n",
       "      <td>37.0</td>\n",
       "      <td>37.0</td>\n",
       "      <td>37.0</td>\n",
       "      <td>37.0</td>\n",
       "      <td>37.0</td>\n",
       "      <td>37.0</td>\n",
       "      <td>37.0</td>\n",
       "      <td>37.0</td>\n",
       "      <td>37.0</td>\n",
       "      <td>37.0</td>\n",
       "      <td>37.0</td>\n",
       "      <td>37.0</td>\n",
       "      <td>37.0</td>\n",
       "    </tr>\n",
       "  </tbody>\n",
       "</table>\n",
       "</div>"
      ],
      "text/plain": [
       "  REF_AREA_LABEL              INDICATOR_LABEL UNIT_MEASURE_LABEL  \\\n",
       "0          Aruba  Pesticides Agricultural Use             Tonnes   \n",
       "1          Aruba  Pesticides Agricultural Use             Tonnes   \n",
       "2          Aruba  Pesticides Agricultural Use             Tonnes   \n",
       "3          Aruba  Pesticides Agricultural Use             Tonnes   \n",
       "4         Angola  Pesticides Agricultural Use             Tonnes   \n",
       "\n",
       "                          ITEM_LABEL   1990   1991   1992   1993   1994  \\\n",
       "0                 Item: Insecticides   34.0   36.0   39.0   44.0   49.0   \n",
       "1                   Item: Herbicides   74.0   78.0   84.0   95.0  105.0   \n",
       "2  Item: Fungicides and Bactericides   18.0   19.0   21.0   24.0   26.0   \n",
       "3           Item: Pesticides (total)  148.0  155.0  169.0  190.0  211.0   \n",
       "4                 Item: Insecticides   56.0   74.0   13.0  153.0   22.0   \n",
       "\n",
       "    1995   1996   1997   1998   1999   2000   2001   2002   2003   2004  \\\n",
       "0   54.0   58.0   60.0   61.0   62.0   63.0   65.0   67.0   70.0   73.0   \n",
       "1  116.0  127.0  138.0  148.0  160.0  175.0  190.0  206.0  219.0  233.0   \n",
       "2   28.0   31.0   35.0   39.0   41.0   43.0   43.0   45.0   47.0   51.0   \n",
       "3  232.0  253.0  274.0  294.0  315.0  336.0  357.0  378.0  399.0  420.0   \n",
       "4  205.0   37.0   37.0   37.0   37.0   37.0   37.0   37.0   37.0   37.0   \n",
       "\n",
       "    2005   2006   2007   2008   2009   2010   2011   2012   2013   2014  \\\n",
       "0   75.0   77.0   78.0   80.0   81.0   82.0   76.0   69.0   62.0   59.0   \n",
       "1  248.0  267.0  287.0  306.0  325.0  339.0  322.0  298.0  267.0  253.0   \n",
       "2   55.0   57.0   60.0   64.0   70.0   74.0   69.0   62.0   55.0   53.0   \n",
       "3  441.0  461.0  482.0  503.0  525.0  538.0  502.0  459.0  410.0  391.0   \n",
       "4   37.0   37.0   37.0   37.0   37.0   37.0   37.0   37.0   37.0   37.0   \n",
       "\n",
       "    2015   2016   2017   2018   2019   2020   2021   2022   2023  \n",
       "0   67.0   66.0   65.0   53.0   55.0   62.0   66.0   64.0   60.0  \n",
       "1  293.0  294.0  299.0  248.0  258.0  292.0  314.0  307.0  287.0  \n",
       "2   63.0   66.0   69.0   59.0   63.0   73.0   79.0   77.0   72.0  \n",
       "3  454.0  459.0  467.0  388.0  404.0  458.0  491.0  480.0  449.0  \n",
       "4   37.0   37.0   37.0   37.0   37.0   37.0   37.0   37.0   37.0  "
      ]
     },
     "metadata": {},
     "output_type": "display_data"
    }
   ],
   "source": [
    "# Import necessary libraries\n",
    "import pandas as pd\n",
    "import numpy as np\n",
    "import matplotlib.pyplot as plt\n",
    "import seaborn as sns\n",
    "import xlsxwriter\n",
    "import plotly.express as px\n",
    "import plotly.graph_objects as go\n",
    "from plotly.subplots import make_subplots\n",
    "import sqlite3\n",
    "import warnings\n",
    "warnings.filterwarnings('ignore')\n",
    "\n",
    "# Display options for better viewing of dataframes\n",
    "pd.set_option('display.max_columns', None)\n",
    "pd.set_option('display.max_rows', 100)\n",
    "pd.set_option('display.width', None)\n",
    "\n",
    "# Load datasets\n",
    "pesticide_per_crop = pd.read_csv('Pesticide_use_per_crop_area.csv',\n",
    " usecols=['REF_AREA_LABEL','INDICATOR_LABEL','UNIT_MEASURE_LABEL',\n",
    " '1990','1991','1992','1993','1994','1995','1996','1997','1998',\n",
    " '1999','2000','2001','2002','2003','2004','2005','2006','2007',\n",
    " '2008','2009','2010','2011','2012','2013','2014','2015','2016',\n",
    " '2017','2018','2019','2020','2021','2022','2023'] )\n",
    "\n",
    "pesticide_use = pd.read_csv('Pesticide_use.csv',\n",
    " usecols=['REF_AREA_LABEL','INDICATOR_LABEL','UNIT_MEASURE_LABEL',\n",
    " 'ITEM_LABEL','1990','1991','1992','1993','1994','1995','1996',\n",
    " '1997','1998','1999','2000','2001','2002','2003','2004','2005',\n",
    " '2006','2007','2008','2009','2010','2011','2012','2013','2014',\n",
    " '2015','2016','2017','2018','2019','2020','2021','2022','2023'])\n",
    "\n",
    "print(\"Files have been loaded successfully!\")\n",
    "print(\"\\n\" + \"=\"*50)\n",
    "print(\"PESTICIDE USE PER CROP LAND AREA\")\n",
    "print(\"=\"*50)\n",
    "print(f\"Shape: {pesticide_per_crop.shape}\")\n",
    "print(f\"Columns: {list(pesticide_per_crop.columns)}\")\n",
    "print(\"\\nFirst 5 rows:\")\n",
    "display(pesticide_per_crop.head())\n",
    "\n",
    "print(\"\\n\" + \"=\"*50)\n",
    "print(\"PESTICIDE USE\")\n",
    "print(\"=\"*50)\n",
    "print(f\"Shape: {pesticide_use.shape}\")\n",
    "print(f\"Columns: {list(pesticide_use.columns)}\")\n",
    "print(\"\\nFirst 5 rows:\")\n",
    "display(pesticide_use.head())"
   ]
  },
  {
   "cell_type": "markdown",
   "id": "b8998db9-fe27-4edd-96ed-14889b99d756",
   "metadata": {},
   "source": [
    "## 2. Data Cleaning and Preparation"
   ]
  },
  {
   "cell_type": "code",
   "execution_count": 2,
   "id": "589172ee-c794-4978-970d-9099019d2eed",
   "metadata": {},
   "outputs": [
    {
     "name": "stdout",
     "output_type": "stream",
     "text": [
      "\n",
      "==================================================\n",
      "Target countries found in datasets:\n",
      "South Africa         - Per Crop: True, Use: True\n",
      "Namibia              - Per Crop: True, Use: True\n",
      "Botswana             - Per Crop: True, Use: True\n",
      "Zimbabwe             - Per Crop: True, Use: True\n",
      "Mozambique           - Per Crop: True, Use: True\n",
      "Eswatini             - Per Crop: True, Use: True\n",
      "Lesotho              - Per Crop: True, Use: True\n",
      "Zambia               - Per Crop: True, Use: True\n",
      "Angola               - Per Crop: True, Use: True\n",
      "Malawi               - Per Crop: True, Use: True\n",
      "Filtered Pesticide Per Crop: (10, 37)\n",
      "Countries included: ['Angola' 'Botswana' 'Lesotho' 'Mozambique' 'Malawi' 'Namibia' 'Eswatini'\n",
      " 'South Africa' 'Zambia' 'Zimbabwe']\n",
      "\n",
      "Filtered Pesticide Use: (40, 38)\n",
      "Countries included: ['Angola' 'Botswana' 'Lesotho' 'Mozambique' 'Malawi' 'Namibia' 'Eswatini'\n",
      " 'South Africa' 'Zambia' 'Zimbabwe']\n"
     ]
    }
   ],
   "source": [
    "# Standardize and rename columns\n",
    "pesticide_use[\"ITEM_LABEL\"] = pesticide_use[\"ITEM_LABEL\"].replace({\n",
    "    \"Item: Insecticides\": \"Insecticides\",\n",
    "    \"Item: Fungicides and Bactericides\": \"Fungicides and Bactericides\",\n",
    "    \"Item: Herbicides\": \"Herbicides\",\n",
    "    \"Item: Pesticides (total)\": \"Pesticides (total)\"\n",
    "})\n",
    "pesticide_use = pesticide_use.rename(\n",
    "    columns={\n",
    "        \"REF_AREA_LABEL\": \"Country\",\n",
    "        \"INDICATOR_LABEL\": \"Indicator\",\n",
    "        \"UNIT_MEASURE_LABEL\": \"Unit_Measure(T)\",\n",
    "        \"ITEM_LABEL\": \"Pesticide_Type\"\n",
    "    }\n",
    ")\n",
    "pesticide_per_crop = pesticide_per_crop.rename(\n",
    "    columns={\n",
    "        \"REF_AREA_LABEL\": \"Country\",\n",
    "        \"INDICATOR_LABEL\": \"Indicator\",\n",
    "        \"UNIT_MEASURE_LABEL\": \"Unit_Measure(kg/ha)\",\n",
    "    }\n",
    ")\n",
    "\n",
    "# Define South Africa and its surrounding countries\n",
    "target_countries = [\n",
    "    'South Africa', 'Namibia', 'Botswana', 'Zimbabwe', 'Mozambique',\n",
    "    'Eswatini', 'Lesotho', 'Zambia', 'Angola', 'Malawi'\n",
    "]\n",
    "\n",
    "# Check which target countries are in each dataset\n",
    "print(\"\\n\" + \"=\"*50)\n",
    "print(\"Target countries found in datasets:\")\n",
    "for country in target_countries:\n",
    "    in_per_crop = country in pesticide_per_crop['Country'].values\n",
    "    in_use = country in pesticide_use['Country'].values\n",
    "    print(f\"{country:20} - Per Crop: {in_per_crop}, Use: {in_use}\")\n",
    "\n",
    "# Filter both datasets for target countries (including alternative names)\n",
    "alternative_names = {\n",
    "    'Eswatini': ['Swaziland', 'Eswatini'],\n",
    "    'South Africa': ['South Africa']\n",
    "}\n",
    "all_country_names = []\n",
    "for country in target_countries:\n",
    "    if country in alternative_names:\n",
    "        all_country_names.extend(alternative_names[country])\n",
    "    else:\n",
    "        all_country_names.append(country)\n",
    "\n",
    "pesticide_per_crop_filtered = pesticide_per_crop[\n",
    "    pesticide_per_crop['Country'].isin(all_country_names)\n",
    "].copy()\n",
    "pesticide_use_filtered = pesticide_use[\n",
    "    pesticide_use['Country'].isin(all_country_names)\n",
    "].copy()\n",
    "\n",
    "print(f\"Filtered Pesticide Per Crop: {pesticide_per_crop_filtered.shape}\")\n",
    "print(f\"Countries included: {pesticide_per_crop_filtered['Country'].unique()}\")\n",
    "print(f\"\\nFiltered Pesticide Use: {pesticide_use_filtered.shape}\")\n",
    "print(f\"Countries included: {pesticide_use_filtered['Country'].unique()}\")"
   ]
  },
  {
   "cell_type": "markdown",
   "id": "8acb904f-b104-43e5-a460-891a6c33495d",
   "metadata": {},
   "source": [
    "## 3. Data Quality Assessment"
   ]
  },
  {
   "cell_type": "code",
   "execution_count": 3,
   "id": "6388688a-8843-40fa-9625-5ef656ed515e",
   "metadata": {},
   "outputs": [
    {
     "name": "stdout",
     "output_type": "stream",
     "text": [
      "Year columns: 1990 to 2023\n",
      "\n",
      "==================================================\n",
      "MISSING VALUES - Pesticide Per Crop (Filtered)\n",
      "==================================================\n",
      "Empty DataFrame\n",
      "Columns: [Year, Missing_Count, Missing_Percentage]\n",
      "Index: []\n",
      "\n",
      "Missing values by country:\n",
      "Angola               - Missing: 0/34 (0.0%)\n",
      "Botswana             - Missing: 0/34 (0.0%)\n",
      "Lesotho              - Missing: 0/34 (0.0%)\n",
      "Mozambique           - Missing: 0/34 (0.0%)\n",
      "Malawi               - Missing: 0/34 (0.0%)\n",
      "Namibia              - Missing: 0/34 (0.0%)\n",
      "Eswatini             - Missing: 0/34 (0.0%)\n",
      "South Africa         - Missing: 0/34 (0.0%)\n",
      "Zambia               - Missing: 0/34 (0.0%)\n",
      "Zimbabwe             - Missing: 0/34 (0.0%)\n",
      "==================================================\n",
      "MISSING VALUES - Pesticide Use (Filtered)\n",
      "==================================================\n",
      "Empty DataFrame\n",
      "Columns: [Year, Missing_Count, Missing_Percentage]\n",
      "Index: []\n",
      "\n",
      "Missing values by country and pesticide type:\n",
      "\n",
      "Angola:\n",
      "  Insecticides                        - Missing: 0/34 (0.0%)\n",
      "  Herbicides                          - Missing: 0/34 (0.0%)\n",
      "  Fungicides and Bactericides         - Missing: 0/34 (0.0%)\n",
      "  Pesticides (total)                  - Missing: 0/34 (0.0%)\n",
      "\n",
      "Botswana:\n",
      "  Insecticides                        - Missing: 0/34 (0.0%)\n",
      "  Herbicides                          - Missing: 0/34 (0.0%)\n",
      "  Fungicides and Bactericides         - Missing: 0/34 (0.0%)\n",
      "  Pesticides (total)                  - Missing: 0/34 (0.0%)\n",
      "\n",
      "Lesotho:\n",
      "  Insecticides                        - Missing: 0/34 (0.0%)\n",
      "  Herbicides                          - Missing: 0/34 (0.0%)\n",
      "  Fungicides and Bactericides         - Missing: 0/34 (0.0%)\n",
      "  Pesticides (total)                  - Missing: 0/34 (0.0%)\n",
      "\n",
      "Mozambique:\n",
      "  Insecticides                        - Missing: 0/34 (0.0%)\n",
      "  Herbicides                          - Missing: 0/34 (0.0%)\n",
      "  Fungicides and Bactericides         - Missing: 0/34 (0.0%)\n",
      "  Pesticides (total)                  - Missing: 0/34 (0.0%)\n",
      "\n",
      "Malawi:\n",
      "  Insecticides                        - Missing: 0/34 (0.0%)\n",
      "  Herbicides                          - Missing: 0/34 (0.0%)\n",
      "  Fungicides and Bactericides         - Missing: 0/34 (0.0%)\n",
      "  Pesticides (total)                  - Missing: 0/34 (0.0%)\n",
      "\n",
      "Namibia:\n",
      "  Insecticides                        - Missing: 0/34 (0.0%)\n",
      "  Herbicides                          - Missing: 0/34 (0.0%)\n",
      "  Fungicides and Bactericides         - Missing: 0/34 (0.0%)\n",
      "  Pesticides (total)                  - Missing: 0/34 (0.0%)\n",
      "\n",
      "Eswatini:\n",
      "  Insecticides                        - Missing: 0/34 (0.0%)\n",
      "  Herbicides                          - Missing: 0/34 (0.0%)\n",
      "  Fungicides and Bactericides         - Missing: 0/34 (0.0%)\n",
      "  Pesticides (total)                  - Missing: 0/34 (0.0%)\n",
      "\n",
      "South Africa:\n",
      "  Insecticides                        - Missing: 0/34 (0.0%)\n",
      "  Herbicides                          - Missing: 0/34 (0.0%)\n",
      "  Fungicides and Bactericides         - Missing: 0/34 (0.0%)\n",
      "  Pesticides (total)                  - Missing: 0/34 (0.0%)\n",
      "\n",
      "Zambia:\n",
      "  Insecticides                        - Missing: 0/34 (0.0%)\n",
      "  Herbicides                          - Missing: 0/34 (0.0%)\n",
      "  Fungicides and Bactericides         - Missing: 0/34 (0.0%)\n",
      "  Pesticides (total)                  - Missing: 0/34 (0.0%)\n",
      "\n",
      "Zimbabwe:\n",
      "  Insecticides                        - Missing: 0/34 (0.0%)\n",
      "  Herbicides                          - Missing: 0/34 (0.0%)\n",
      "  Fungicides and Bactericides         - Missing: 0/34 (0.0%)\n",
      "  Pesticides (total)                  - Missing: 0/34 (0.0%)\n"
     ]
    }
   ],
   "source": [
    "# Check for missing values, zeros, and value ranges\n",
    "year_columns = [col for col in pesticide_per_crop_filtered.columns if col.isdigit()]\n",
    "print(f\"Year columns: {year_columns[0]} to {year_columns[-1]}\")\n",
    "\n",
    "print(\"\\n\" + \"=\"*50)\n",
    "print(\"MISSING VALUES - Pesticide Per Crop (Filtered)\")\n",
    "print(\"=\"*50)\n",
    "missing_per_crop = pesticide_per_crop_filtered[year_columns].isnull().sum()\n",
    "missing_per_crop_pct = (missing_per_crop / len(pesticide_per_crop_filtered)) * 100\n",
    "missing_summary_per_crop = pd.DataFrame({\n",
    "    'Year': year_columns,\n",
    "    'Missing_Count': missing_per_crop.values,\n",
    "    'Missing_Percentage': missing_per_crop_pct.values\n",
    "})\n",
    "print(missing_summary_per_crop[missing_summary_per_crop['Missing_Count'] > 0])\n",
    "\n",
    "print(\"\\nMissing values by country:\")\n",
    "for country in pesticide_per_crop_filtered['Country'].unique():\n",
    "    country_data = pesticide_per_crop_filtered[pesticide_per_crop_filtered['Country'] == country]\n",
    "    missing_count = country_data[year_columns].isnull().sum().sum()\n",
    "    total_cells = len(year_columns)\n",
    "    print(f\"{country:20} - Missing: {missing_count}/{total_cells} ({missing_count/total_cells*100:.1f}%)\")\n",
    "\n",
    "# Do the same for pesticide_use_filtered\n",
    "year_columns_use = [col for col in pesticide_use_filtered.columns if col.isdigit()]\n",
    "print(\"=\"*50)\n",
    "print(\"MISSING VALUES - Pesticide Use (Filtered)\")\n",
    "print(\"=\"*50)\n",
    "missing_use = pesticide_use_filtered[year_columns_use].isnull().sum()\n",
    "missing_use_pct = (missing_use / len(pesticide_use_filtered)) * 100\n",
    "missing_summary_use = pd.DataFrame({\n",
    "    'Year': year_columns_use,\n",
    "    'Missing_Count': missing_use.values,\n",
    "    'Missing_Percentage': missing_use_pct.values\n",
    "})\n",
    "print(missing_summary_use[missing_summary_use['Missing_Count'] > 0])\n",
    "\n",
    "print(\"\\nMissing values by country and pesticide type:\")\n",
    "for country in pesticide_use_filtered['Country'].unique():\n",
    "    country_data = pesticide_use_filtered[pesticide_use_filtered['Country'] == country]\n",
    "    items = country_data['Pesticide_Type'].unique()\n",
    "    print(f\"\\n{country}:\")\n",
    "    for item in items:\n",
    "        item_data = country_data[country_data['Pesticide_Type'] == item]\n",
    "        missing_count = item_data[year_columns_use].isnull().sum().sum()\n",
    "        total_cells = len(year_columns_use)\n",
    "        print(f\"  {item:35} - Missing: {missing_count}/{total_cells} ({missing_count/total_cells*100:.1f}%)\")"
   ]
  },
  {
   "cell_type": "markdown",
   "id": "36af65ba-eb6e-4596-ab6d-80e2addcaff2",
   "metadata": {},
   "source": [
    "## Missing Values Verification"
   ]
  },
  {
   "cell_type": "code",
   "execution_count": 4,
   "id": "95e0d9c5-8a8d-48a0-bc61-ba108c52d7f0",
   "metadata": {},
   "outputs": [
    {
     "name": "stdout",
     "output_type": "stream",
     "text": [
      "==================================================\n",
      "VERIFICATION: Missing Values Check\n",
      "==================================================\n",
      "Pesticide Per Crop Dataset:\n",
      "Total missing values: 0\n",
      "Missing in year columns: 0\n",
      "\n",
      "Pesticide Use Dataset:\n",
      "Total missing values: 0\n",
      "Missing in year columns: 0\n",
      "\n",
      "==================================================\n",
      "DATA QUALITY CHECK\n",
      "==================================================\n",
      "Zero values in Pesticide Per Crop: 0\n",
      "Zero values in Pesticide Use: 48\n",
      "\n",
      "Value ranges for Pesticide Per Crop (kg/ha):\n",
      "Min: 0.01\n",
      "Max: 6.57\n",
      "\n",
      "Value ranges for Pesticide Use (tonnes):\n",
      "Min: 0.00\n",
      "Max: 42620.00\n"
     ]
    }
   ],
   "source": [
    "# Verify that we have no missing values\n",
    "print(\"=\"*50)\n",
    "print(\"VERIFICATION: Missing Values Check\")\n",
    "print(\"=\"*50)\n",
    "\n",
    "# Check for missing values in all columns\n",
    "print(\"Pesticide Per Crop Dataset:\")\n",
    "print(f\"Total missing values: {pesticide_per_crop_filtered.isnull().sum().sum()}\")\n",
    "print(f\"Missing in year columns: {pesticide_per_crop_filtered[year_columns].isnull().sum().sum()}\")\n",
    "\n",
    "print(\"\\nPesticide Use Dataset:\")\n",
    "print(f\"Total missing values: {pesticide_use_filtered.isnull().sum().sum()}\")\n",
    "print(f\"Missing in year columns: {pesticide_use_filtered[year_columns].isnull().sum().sum()}\")\n",
    "\n",
    "# Check for any anomalies in the data (zeros, negative values, outliers)\n",
    "print(\"\\n\" + \"=\"*50)\n",
    "print(\"DATA QUALITY CHECK\")\n",
    "print(\"=\"*50)\n",
    "\n",
    "# Check for zeros\n",
    "zeros_per_crop = (pesticide_per_crop_filtered[year_columns] == 0).sum().sum()\n",
    "zeros_use = (pesticide_use_filtered[year_columns] == 0).sum().sum()\n",
    "\n",
    "print(f\"Zero values in Pesticide Per Crop: {zeros_per_crop}\")\n",
    "print(f\"Zero values in Pesticide Use: {zeros_use}\")\n",
    "\n",
    "# Check value ranges\n",
    "print(\"\\nValue ranges for Pesticide Per Crop (kg/ha):\")\n",
    "print(f\"Min: {pesticide_per_crop_filtered[year_columns].min().min():.2f}\")\n",
    "print(f\"Max: {pesticide_per_crop_filtered[year_columns].max().max():.2f}\")\n",
    "\n",
    "print(\"\\nValue ranges for Pesticide Use (tonnes):\")\n",
    "print(f\"Min: {pesticide_use_filtered[year_columns].min().min():.2f}\")\n",
    "print(f\"Max: {pesticide_use_filtered[year_columns].max().max():.2f}\")"
   ]
  },
  {
   "cell_type": "markdown",
   "id": "3db43d02-94f6-48d3-8f7f-30a851c0a8d7",
   "metadata": {},
   "source": [
    "## 4. Data Transformation"
   ]
  },
  {
   "cell_type": "code",
   "execution_count": 5,
   "id": "9e04e4c6-e401-47e5-8185-2a6cbfafc85e",
   "metadata": {},
   "outputs": [
    {
     "name": "stdout",
     "output_type": "stream",
     "text": [
      "Transformation complete.\n"
     ]
    },
    {
     "data": {
      "text/html": [
       "<div>\n",
       "<style scoped>\n",
       "    .dataframe tbody tr th:only-of-type {\n",
       "        vertical-align: middle;\n",
       "    }\n",
       "\n",
       "    .dataframe tbody tr th {\n",
       "        vertical-align: top;\n",
       "    }\n",
       "\n",
       "    .dataframe thead th {\n",
       "        text-align: right;\n",
       "    }\n",
       "</style>\n",
       "<table border=\"1\" class=\"dataframe\">\n",
       "  <thead>\n",
       "    <tr style=\"text-align: right;\">\n",
       "      <th></th>\n",
       "      <th>Country</th>\n",
       "      <th>Indicator</th>\n",
       "      <th>Unit_Measure(T)</th>\n",
       "      <th>Pesticide_Type</th>\n",
       "      <th>Year</th>\n",
       "      <th>Tonnes</th>\n",
       "    </tr>\n",
       "  </thead>\n",
       "  <tbody>\n",
       "    <tr>\n",
       "      <th>0</th>\n",
       "      <td>Angola</td>\n",
       "      <td>Pesticides Agricultural Use</td>\n",
       "      <td>Tonnes</td>\n",
       "      <td>Insecticides</td>\n",
       "      <td>1990</td>\n",
       "      <td>56.0</td>\n",
       "    </tr>\n",
       "    <tr>\n",
       "      <th>1</th>\n",
       "      <td>Angola</td>\n",
       "      <td>Pesticides Agricultural Use</td>\n",
       "      <td>Tonnes</td>\n",
       "      <td>Herbicides</td>\n",
       "      <td>1990</td>\n",
       "      <td>0.0</td>\n",
       "    </tr>\n",
       "    <tr>\n",
       "      <th>2</th>\n",
       "      <td>Angola</td>\n",
       "      <td>Pesticides Agricultural Use</td>\n",
       "      <td>Tonnes</td>\n",
       "      <td>Fungicides and Bactericides</td>\n",
       "      <td>1990</td>\n",
       "      <td>5.0</td>\n",
       "    </tr>\n",
       "    <tr>\n",
       "      <th>3</th>\n",
       "      <td>Angola</td>\n",
       "      <td>Pesticides Agricultural Use</td>\n",
       "      <td>Tonnes</td>\n",
       "      <td>Pesticides (total)</td>\n",
       "      <td>1990</td>\n",
       "      <td>64.0</td>\n",
       "    </tr>\n",
       "    <tr>\n",
       "      <th>4</th>\n",
       "      <td>Botswana</td>\n",
       "      <td>Pesticides Agricultural Use</td>\n",
       "      <td>Tonnes</td>\n",
       "      <td>Insecticides</td>\n",
       "      <td>1990</td>\n",
       "      <td>272.0</td>\n",
       "    </tr>\n",
       "  </tbody>\n",
       "</table>\n",
       "</div>"
      ],
      "text/plain": [
       "    Country                    Indicator Unit_Measure(T)  \\\n",
       "0    Angola  Pesticides Agricultural Use          Tonnes   \n",
       "1    Angola  Pesticides Agricultural Use          Tonnes   \n",
       "2    Angola  Pesticides Agricultural Use          Tonnes   \n",
       "3    Angola  Pesticides Agricultural Use          Tonnes   \n",
       "4  Botswana  Pesticides Agricultural Use          Tonnes   \n",
       "\n",
       "                Pesticide_Type  Year  Tonnes  \n",
       "0                 Insecticides  1990    56.0  \n",
       "1                   Herbicides  1990     0.0  \n",
       "2  Fungicides and Bactericides  1990     5.0  \n",
       "3           Pesticides (total)  1990    64.0  \n",
       "4                 Insecticides  1990   272.0  "
      ]
     },
     "metadata": {},
     "output_type": "display_data"
    },
    {
     "data": {
      "text/html": [
       "<div>\n",
       "<style scoped>\n",
       "    .dataframe tbody tr th:only-of-type {\n",
       "        vertical-align: middle;\n",
       "    }\n",
       "\n",
       "    .dataframe tbody tr th {\n",
       "        vertical-align: top;\n",
       "    }\n",
       "\n",
       "    .dataframe thead th {\n",
       "        text-align: right;\n",
       "    }\n",
       "</style>\n",
       "<table border=\"1\" class=\"dataframe\">\n",
       "  <thead>\n",
       "    <tr style=\"text-align: right;\">\n",
       "      <th></th>\n",
       "      <th>Country</th>\n",
       "      <th>Indicator</th>\n",
       "      <th>Unit_Measure(kg/ha)</th>\n",
       "      <th>Year</th>\n",
       "      <th>Kg_per_ha</th>\n",
       "    </tr>\n",
       "  </thead>\n",
       "  <tbody>\n",
       "    <tr>\n",
       "      <th>0</th>\n",
       "      <td>Angola</td>\n",
       "      <td>Pesticides Use per area of cropland</td>\n",
       "      <td>Kilogram per hectare</td>\n",
       "      <td>1990</td>\n",
       "      <td>0.02</td>\n",
       "    </tr>\n",
       "    <tr>\n",
       "      <th>1</th>\n",
       "      <td>Botswana</td>\n",
       "      <td>Pesticides Use per area of cropland</td>\n",
       "      <td>Kilogram per hectare</td>\n",
       "      <td>1990</td>\n",
       "      <td>0.83</td>\n",
       "    </tr>\n",
       "    <tr>\n",
       "      <th>2</th>\n",
       "      <td>Lesotho</td>\n",
       "      <td>Pesticides Use per area of cropland</td>\n",
       "      <td>Kilogram per hectare</td>\n",
       "      <td>1990</td>\n",
       "      <td>0.02</td>\n",
       "    </tr>\n",
       "    <tr>\n",
       "      <th>3</th>\n",
       "      <td>Mozambique</td>\n",
       "      <td>Pesticides Use per area of cropland</td>\n",
       "      <td>Kilogram per hectare</td>\n",
       "      <td>1990</td>\n",
       "      <td>0.03</td>\n",
       "    </tr>\n",
       "    <tr>\n",
       "      <th>4</th>\n",
       "      <td>Malawi</td>\n",
       "      <td>Pesticides Use per area of cropland</td>\n",
       "      <td>Kilogram per hectare</td>\n",
       "      <td>1990</td>\n",
       "      <td>0.07</td>\n",
       "    </tr>\n",
       "  </tbody>\n",
       "</table>\n",
       "</div>"
      ],
      "text/plain": [
       "      Country                            Indicator   Unit_Measure(kg/ha)  \\\n",
       "0      Angola  Pesticides Use per area of cropland  Kilogram per hectare   \n",
       "1    Botswana  Pesticides Use per area of cropland  Kilogram per hectare   \n",
       "2     Lesotho  Pesticides Use per area of cropland  Kilogram per hectare   \n",
       "3  Mozambique  Pesticides Use per area of cropland  Kilogram per hectare   \n",
       "4      Malawi  Pesticides Use per area of cropland  Kilogram per hectare   \n",
       "\n",
       "   Year  Kg_per_ha  \n",
       "0  1990       0.02  \n",
       "1  1990       0.83  \n",
       "2  1990       0.02  \n",
       "3  1990       0.03  \n",
       "4  1990       0.07  "
      ]
     },
     "metadata": {},
     "output_type": "display_data"
    }
   ],
   "source": [
    "# 1. Transform (Melt datasets)\n",
    "year_cols_use = [col for col in pesticide_use_filtered.columns if col.isdigit()]\n",
    "year_cols_per_crop = [col for col in pesticide_per_crop_filtered.columns if col.isdigit()]\n",
    "\n",
    "id_cols_use = [col for col in pesticide_use_filtered.columns if col not in year_cols_use]\n",
    "id_cols_per_crop = [col for col in pesticide_per_crop_filtered.columns if col not in year_cols_per_crop]\n",
    "\n",
    "# Melt into long format\n",
    "pesticide_use_long = pd.melt(\n",
    "    pesticide_use_filtered,\n",
    "    id_vars=id_cols_use,\n",
    "    value_vars=year_cols_use,\n",
    "    var_name='Year',\n",
    "    value_name='Tonnes'\n",
    ")\n",
    "\n",
    "pesticide_per_crop_long = pd.melt(\n",
    "    pesticide_per_crop_filtered,\n",
    "    id_vars=id_cols_per_crop,\n",
    "    value_vars=year_cols_per_crop,\n",
    "    var_name='Year',\n",
    "    value_name='Kg_per_ha'\n",
    ")\n",
    "\n",
    "print(\"Transformation complete.\")\n",
    "display(pesticide_use_long.head())\n",
    "display(pesticide_per_crop_long.head())\n"
   ]
  },
  {
   "cell_type": "markdown",
   "id": "a5e33cef-29ec-45ae-8581-22e1090e4fff",
   "metadata": {},
   "source": [
    "## Data Type Standardization"
   ]
  },
  {
   "cell_type": "code",
   "execution_count": 6,
   "id": "8e47bfa3-fe95-4383-8d1b-be438f1f8abc",
   "metadata": {},
   "outputs": [
    {
     "name": "stdout",
     "output_type": "stream",
     "text": [
      "Data type standardization complete.\n",
      "\n",
      "Pesticide Use dtypes:\n",
      "Country             object\n",
      "Indicator           object\n",
      "Unit_Measure(T)     object\n",
      "Pesticide_Type      object\n",
      "Year                 Int64\n",
      "Tonnes             float64\n",
      "dtype: object\n",
      "\n",
      "Pesticide Per Crop dtypes:\n",
      "Country                 object\n",
      "Indicator               object\n",
      "Unit_Measure(kg/ha)     object\n",
      "Year                     Int64\n",
      "Kg_per_ha              float64\n",
      "dtype: object\n"
     ]
    }
   ],
   "source": [
    "# Standardize Data Types\n",
    "\n",
    "# Convert Year to int\n",
    "pesticide_use_long['Year'] = pd.to_numeric(pesticide_use_long['Year'], errors='coerce').astype('Int64')\n",
    "pesticide_per_crop_long['Year'] = pd.to_numeric(pesticide_per_crop_long['Year'], errors='coerce').astype('Int64')\n",
    "\n",
    "# Ensure numeric columns are floats\n",
    "pesticide_use_long['Tonnes'] = pd.to_numeric(pesticide_use_long['Tonnes'], errors='coerce')\n",
    "pesticide_per_crop_long['Kg_per_ha'] = pd.to_numeric(pesticide_per_crop_long['Kg_per_ha'], errors='coerce')\n",
    "\n",
    "# Standardize country names (rename Swaziland → Eswatini)\n",
    "pesticide_use_long['Country'] = pesticide_use_long['Country'].replace('Swaziland', 'Eswatini')\n",
    "pesticide_per_crop_long['Country'] = pesticide_per_crop_long['Country'].replace('Swaziland', 'Eswatini')\n",
    "\n",
    "print(\"Data type standardization complete.\")\n",
    "print(\"\\nPesticide Use dtypes:\")\n",
    "print(pesticide_use_long.dtypes)\n",
    "print(\"\\nPesticide Per Crop dtypes:\")\n",
    "print(pesticide_per_crop_long.dtypes)\n"
   ]
  },
  {
   "cell_type": "markdown",
   "id": "07487849-7e85-41cf-b97b-96235824c9c7",
   "metadata": {},
   "source": [
    "## Data Merging & Verification"
   ]
  },
  {
   "cell_type": "code",
   "execution_count": null,
   "id": "38fa579b-aef0-4181-b6f2-8966cbf28d6c",
   "metadata": {},
   "outputs": [
    {
     "name": "stdout",
     "output_type": "stream",
     "text": [
      "Merged dataframe shape: (1360, 9)\n"
     ]
    },
    {
     "data": {
      "text/html": [
       "<div>\n",
       "<style scoped>\n",
       "    .dataframe tbody tr th:only-of-type {\n",
       "        vertical-align: middle;\n",
       "    }\n",
       "\n",
       "    .dataframe tbody tr th {\n",
       "        vertical-align: top;\n",
       "    }\n",
       "\n",
       "    .dataframe thead th {\n",
       "        text-align: right;\n",
       "    }\n",
       "</style>\n",
       "<table border=\"1\" class=\"dataframe\">\n",
       "  <thead>\n",
       "    <tr style=\"text-align: right;\">\n",
       "      <th></th>\n",
       "      <th>Country</th>\n",
       "      <th>Indicator_x</th>\n",
       "      <th>Unit_Measure(T)</th>\n",
       "      <th>Pesticide_Type</th>\n",
       "      <th>Year</th>\n",
       "      <th>Tonnes</th>\n",
       "      <th>Indicator_y</th>\n",
       "      <th>Unit_Measure(kg/ha)</th>\n",
       "      <th>Kg_per_ha</th>\n",
       "    </tr>\n",
       "  </thead>\n",
       "  <tbody>\n",
       "    <tr>\n",
       "      <th>0</th>\n",
       "      <td>Angola</td>\n",
       "      <td>Pesticides Agricultural Use</td>\n",
       "      <td>Tonnes</td>\n",
       "      <td>Insecticides</td>\n",
       "      <td>1990</td>\n",
       "      <td>56.0</td>\n",
       "      <td>Pesticides Use per area of cropland</td>\n",
       "      <td>Kilogram per hectare</td>\n",
       "      <td>0.02</td>\n",
       "    </tr>\n",
       "    <tr>\n",
       "      <th>1</th>\n",
       "      <td>Angola</td>\n",
       "      <td>Pesticides Agricultural Use</td>\n",
       "      <td>Tonnes</td>\n",
       "      <td>Herbicides</td>\n",
       "      <td>1990</td>\n",
       "      <td>0.0</td>\n",
       "      <td>Pesticides Use per area of cropland</td>\n",
       "      <td>Kilogram per hectare</td>\n",
       "      <td>0.02</td>\n",
       "    </tr>\n",
       "    <tr>\n",
       "      <th>2</th>\n",
       "      <td>Angola</td>\n",
       "      <td>Pesticides Agricultural Use</td>\n",
       "      <td>Tonnes</td>\n",
       "      <td>Fungicides and Bactericides</td>\n",
       "      <td>1990</td>\n",
       "      <td>5.0</td>\n",
       "      <td>Pesticides Use per area of cropland</td>\n",
       "      <td>Kilogram per hectare</td>\n",
       "      <td>0.02</td>\n",
       "    </tr>\n",
       "    <tr>\n",
       "      <th>3</th>\n",
       "      <td>Angola</td>\n",
       "      <td>Pesticides Agricultural Use</td>\n",
       "      <td>Tonnes</td>\n",
       "      <td>Pesticides (total)</td>\n",
       "      <td>1990</td>\n",
       "      <td>64.0</td>\n",
       "      <td>Pesticides Use per area of cropland</td>\n",
       "      <td>Kilogram per hectare</td>\n",
       "      <td>0.02</td>\n",
       "    </tr>\n",
       "    <tr>\n",
       "      <th>4</th>\n",
       "      <td>Botswana</td>\n",
       "      <td>Pesticides Agricultural Use</td>\n",
       "      <td>Tonnes</td>\n",
       "      <td>Insecticides</td>\n",
       "      <td>1990</td>\n",
       "      <td>272.0</td>\n",
       "      <td>Pesticides Use per area of cropland</td>\n",
       "      <td>Kilogram per hectare</td>\n",
       "      <td>0.83</td>\n",
       "    </tr>\n",
       "  </tbody>\n",
       "</table>\n",
       "</div>"
      ],
      "text/plain": [
       "    Country                  Indicator_x Unit_Measure(T)  \\\n",
       "0    Angola  Pesticides Agricultural Use          Tonnes   \n",
       "1    Angola  Pesticides Agricultural Use          Tonnes   \n",
       "2    Angola  Pesticides Agricultural Use          Tonnes   \n",
       "3    Angola  Pesticides Agricultural Use          Tonnes   \n",
       "4  Botswana  Pesticides Agricultural Use          Tonnes   \n",
       "\n",
       "                Pesticide_Type  Year  Tonnes  \\\n",
       "0                 Insecticides  1990    56.0   \n",
       "1                   Herbicides  1990     0.0   \n",
       "2  Fungicides and Bactericides  1990     5.0   \n",
       "3           Pesticides (total)  1990    64.0   \n",
       "4                 Insecticides  1990   272.0   \n",
       "\n",
       "                           Indicator_y   Unit_Measure(kg/ha)  Kg_per_ha  \n",
       "0  Pesticides Use per area of cropland  Kilogram per hectare       0.02  \n",
       "1  Pesticides Use per area of cropland  Kilogram per hectare       0.02  \n",
       "2  Pesticides Use per area of cropland  Kilogram per hectare       0.02  \n",
       "3  Pesticides Use per area of cropland  Kilogram per hectare       0.02  \n",
       "4  Pesticides Use per area of cropland  Kilogram per hectare       0.83  "
      ]
     },
     "metadata": {},
     "output_type": "display_data"
    },
    {
     "name": "stdout",
     "output_type": "stream",
     "text": [
      "\n",
      "Fixed Dataframe with totals under each country/year group:\n"
     ]
    },
    {
     "data": {
      "text/html": [
       "<div>\n",
       "<style scoped>\n",
       "    .dataframe tbody tr th:only-of-type {\n",
       "        vertical-align: middle;\n",
       "    }\n",
       "\n",
       "    .dataframe tbody tr th {\n",
       "        vertical-align: top;\n",
       "    }\n",
       "\n",
       "    .dataframe thead th {\n",
       "        text-align: right;\n",
       "    }\n",
       "</style>\n",
       "<table border=\"1\" class=\"dataframe\">\n",
       "  <thead>\n",
       "    <tr style=\"text-align: right;\">\n",
       "      <th></th>\n",
       "      <th>Country</th>\n",
       "      <th>Indicator_x</th>\n",
       "      <th>Unit_Measure(T)</th>\n",
       "      <th>Pesticide_Type</th>\n",
       "      <th>Year</th>\n",
       "      <th>Tonnes</th>\n",
       "      <th>Indicator_y</th>\n",
       "      <th>Unit_Measure(kg/ha)</th>\n",
       "      <th>Kg_per_ha</th>\n",
       "    </tr>\n",
       "  </thead>\n",
       "  <tbody>\n",
       "    <tr>\n",
       "      <th>0</th>\n",
       "      <td>Angola</td>\n",
       "      <td>Pesticides Agricultural Use</td>\n",
       "      <td>Tonnes</td>\n",
       "      <td>Insecticides</td>\n",
       "      <td>1990</td>\n",
       "      <td>56.0</td>\n",
       "      <td>Pesticides Use per area of cropland</td>\n",
       "      <td>Kilogram per hectare</td>\n",
       "      <td>0.02</td>\n",
       "    </tr>\n",
       "    <tr>\n",
       "      <th>1</th>\n",
       "      <td>Angola</td>\n",
       "      <td>Pesticides Agricultural Use</td>\n",
       "      <td>Tonnes</td>\n",
       "      <td>Herbicides</td>\n",
       "      <td>1990</td>\n",
       "      <td>0.0</td>\n",
       "      <td>Pesticides Use per area of cropland</td>\n",
       "      <td>Kilogram per hectare</td>\n",
       "      <td>0.02</td>\n",
       "    </tr>\n",
       "    <tr>\n",
       "      <th>2</th>\n",
       "      <td>Angola</td>\n",
       "      <td>Pesticides Agricultural Use</td>\n",
       "      <td>Tonnes</td>\n",
       "      <td>Fungicides and Bactericides</td>\n",
       "      <td>1990</td>\n",
       "      <td>5.0</td>\n",
       "      <td>Pesticides Use per area of cropland</td>\n",
       "      <td>Kilogram per hectare</td>\n",
       "      <td>0.02</td>\n",
       "    </tr>\n",
       "    <tr>\n",
       "      <th>3</th>\n",
       "      <td>Angola</td>\n",
       "      <td>Pesticides Agricultural Use</td>\n",
       "      <td>Tonnes</td>\n",
       "      <td>Pesticides (total)</td>\n",
       "      <td>1990</td>\n",
       "      <td>61.0</td>\n",
       "      <td>Pesticides Use per area of cropland</td>\n",
       "      <td>Kilogram per hectare</td>\n",
       "      <td>0.02</td>\n",
       "    </tr>\n",
       "    <tr>\n",
       "      <th>4</th>\n",
       "      <td>Botswana</td>\n",
       "      <td>Pesticides Agricultural Use</td>\n",
       "      <td>Tonnes</td>\n",
       "      <td>Insecticides</td>\n",
       "      <td>1990</td>\n",
       "      <td>272.0</td>\n",
       "      <td>Pesticides Use per area of cropland</td>\n",
       "      <td>Kilogram per hectare</td>\n",
       "      <td>0.83</td>\n",
       "    </tr>\n",
       "    <tr>\n",
       "      <th>5</th>\n",
       "      <td>Botswana</td>\n",
       "      <td>Pesticides Agricultural Use</td>\n",
       "      <td>Tonnes</td>\n",
       "      <td>Herbicides</td>\n",
       "      <td>1990</td>\n",
       "      <td>52.0</td>\n",
       "      <td>Pesticides Use per area of cropland</td>\n",
       "      <td>Kilogram per hectare</td>\n",
       "      <td>0.83</td>\n",
       "    </tr>\n",
       "    <tr>\n",
       "      <th>6</th>\n",
       "      <td>Botswana</td>\n",
       "      <td>Pesticides Agricultural Use</td>\n",
       "      <td>Tonnes</td>\n",
       "      <td>Fungicides and Bactericides</td>\n",
       "      <td>1990</td>\n",
       "      <td>20.0</td>\n",
       "      <td>Pesticides Use per area of cropland</td>\n",
       "      <td>Kilogram per hectare</td>\n",
       "      <td>0.83</td>\n",
       "    </tr>\n",
       "    <tr>\n",
       "      <th>7</th>\n",
       "      <td>Botswana</td>\n",
       "      <td>Pesticides Agricultural Use</td>\n",
       "      <td>Tonnes</td>\n",
       "      <td>Pesticides (total)</td>\n",
       "      <td>1990</td>\n",
       "      <td>344.0</td>\n",
       "      <td>Pesticides Use per area of cropland</td>\n",
       "      <td>Kilogram per hectare</td>\n",
       "      <td>0.83</td>\n",
       "    </tr>\n",
       "    <tr>\n",
       "      <th>8</th>\n",
       "      <td>Lesotho</td>\n",
       "      <td>Pesticides Agricultural Use</td>\n",
       "      <td>Tonnes</td>\n",
       "      <td>Insecticides</td>\n",
       "      <td>1990</td>\n",
       "      <td>0.0</td>\n",
       "      <td>Pesticides Use per area of cropland</td>\n",
       "      <td>Kilogram per hectare</td>\n",
       "      <td>0.02</td>\n",
       "    </tr>\n",
       "    <tr>\n",
       "      <th>9</th>\n",
       "      <td>Lesotho</td>\n",
       "      <td>Pesticides Agricultural Use</td>\n",
       "      <td>Tonnes</td>\n",
       "      <td>Herbicides</td>\n",
       "      <td>1990</td>\n",
       "      <td>3.0</td>\n",
       "      <td>Pesticides Use per area of cropland</td>\n",
       "      <td>Kilogram per hectare</td>\n",
       "      <td>0.02</td>\n",
       "    </tr>\n",
       "  </tbody>\n",
       "</table>\n",
       "</div>"
      ],
      "text/plain": [
       "    Country                  Indicator_x Unit_Measure(T)  \\\n",
       "0    Angola  Pesticides Agricultural Use          Tonnes   \n",
       "1    Angola  Pesticides Agricultural Use          Tonnes   \n",
       "2    Angola  Pesticides Agricultural Use          Tonnes   \n",
       "3    Angola  Pesticides Agricultural Use          Tonnes   \n",
       "4  Botswana  Pesticides Agricultural Use          Tonnes   \n",
       "5  Botswana  Pesticides Agricultural Use          Tonnes   \n",
       "6  Botswana  Pesticides Agricultural Use          Tonnes   \n",
       "7  Botswana  Pesticides Agricultural Use          Tonnes   \n",
       "8   Lesotho  Pesticides Agricultural Use          Tonnes   \n",
       "9   Lesotho  Pesticides Agricultural Use          Tonnes   \n",
       "\n",
       "                Pesticide_Type  Year  Tonnes  \\\n",
       "0                 Insecticides  1990    56.0   \n",
       "1                   Herbicides  1990     0.0   \n",
       "2  Fungicides and Bactericides  1990     5.0   \n",
       "3           Pesticides (total)  1990    61.0   \n",
       "4                 Insecticides  1990   272.0   \n",
       "5                   Herbicides  1990    52.0   \n",
       "6  Fungicides and Bactericides  1990    20.0   \n",
       "7           Pesticides (total)  1990   344.0   \n",
       "8                 Insecticides  1990     0.0   \n",
       "9                   Herbicides  1990     3.0   \n",
       "\n",
       "                           Indicator_y   Unit_Measure(kg/ha)  Kg_per_ha  \n",
       "0  Pesticides Use per area of cropland  Kilogram per hectare       0.02  \n",
       "1  Pesticides Use per area of cropland  Kilogram per hectare       0.02  \n",
       "2  Pesticides Use per area of cropland  Kilogram per hectare       0.02  \n",
       "3  Pesticides Use per area of cropland  Kilogram per hectare       0.02  \n",
       "4  Pesticides Use per area of cropland  Kilogram per hectare       0.83  \n",
       "5  Pesticides Use per area of cropland  Kilogram per hectare       0.83  \n",
       "6  Pesticides Use per area of cropland  Kilogram per hectare       0.83  \n",
       "7  Pesticides Use per area of cropland  Kilogram per hectare       0.83  \n",
       "8  Pesticides Use per area of cropland  Kilogram per hectare       0.02  \n",
       "9  Pesticides Use per area of cropland  Kilogram per hectare       0.02  "
      ]
     },
     "metadata": {},
     "output_type": "display_data"
    }
   ],
   "source": [
    "# Merge Datasets\n",
    "merged_df = pd.merge(\n",
    "    pesticide_use_long,\n",
    "    pesticide_per_crop_long,\n",
    "    on=['Country', 'Year'],\n",
    "    how='inner'\n",
    ")\n",
    "\n",
    "print(f\"Merged dataframe shape: {merged_df.shape}\")\n",
    "display(merged_df.head())\n",
    "\n",
    "# Filter out \"Pesticides (total)\" rows\n",
    "df_no_total = merged_df[merged_df['Pesticide_Type'] != 'Pesticides (total)']\n",
    "\n",
    "# Compute totals per Country + Year (sum Tonnes)\n",
    "totals_df = (\n",
    "    df_no_total.groupby(['Country', 'Year'], as_index=False)\n",
    "    .agg({'Tonnes': 'sum'})\n",
    ")\n",
    "\n",
    "# Compute Kg_per_ha for totals (weighted)\n",
    "totals_df['Kg_per_ha'] = df_no_total.groupby(['Country', 'Year']).apply(\n",
    "    lambda x: (x['Kg_per_ha'] * x['Tonnes']).sum() / x['Tonnes'].sum() if x['Tonnes'].sum() > 0 else 0\n",
    ").values\n",
    "\n",
    "# Add meta-columns for totals\n",
    "totals_df['Pesticide_Type'] = 'Pesticides (total)'\n",
    "totals_df['Indicator_x'] = 'Pesticides Agricultural Use'\n",
    "totals_df['Unit_Measure(T)'] = 'Tonnes'\n",
    "totals_df['Indicator_y'] = 'Pesticides Use per area of cropland'\n",
    "totals_df['Unit_Measure(kg/ha)'] = 'Kilogram per hectare'\n",
    "\n",
    "# Insert totals under each Country + Year group\n",
    "merged_df_fixed = pd.DataFrame()  # start empty\n",
    "\n",
    "for (country, year), group in df_no_total.groupby(['Country', 'Year'], sort=False):\n",
    "    merged_df_fixed = pd.concat([merged_df_fixed, group, totals_df[(totals_df['Country']==country) & (totals_df['Year']==year)]], ignore_index=True)\n",
    "\n",
    "print(\"\\nFixed Dataframe with totals under each country/year group:\")\n",
    "display(merged_df_fixed.head(10))\n"
   ]
  },
  {
   "cell_type": "markdown",
   "id": "ec518527-f4cf-4f5f-bfd9-6c5276eb230c",
   "metadata": {},
   "source": [
    "## 5. Exploratory Data Analysis & Statistical Analysis"
   ]
  },
  {
   "cell_type": "code",
   "execution_count": 9,
   "id": "d4c6b3fb-e655-465c-9fe2-20e8b18e3393",
   "metadata": {},
   "outputs": [
    {
     "name": "stdout",
     "output_type": "stream",
     "text": [
      "=== Numerical Analysis with NumPy ===\n",
      "\n",
      "--- Tonnes ---\n",
      "Mean pesticide use (Tonnes): 1780.54\n",
      "Median pesticide use (Tonnes): 233.50\n",
      "Standard deviation (Tonnes): 4980.64\n",
      "Variance (Tonnes): 24806790.55\n",
      "\n",
      "Reshaped Tonnes array shape: (34, 10)\n",
      "Total pesticide use per year (Tonnes, first 10 values): [10889.  11086.5  9893.   9716.5  9649.  10712.5 11464.  12699.5 14104.5\n",
      " 14968.5]\n",
      "\n",
      "--- Kg_per_ha ---\n",
      "Mean pesticide use per hectare (Kg/ha): 1.14\n",
      "Median pesticide use per hectare (Kg/ha): 0.71\n",
      "Standard deviation (Kg/ha): 1.40\n",
      "Variance (Kg/ha): 1.95\n",
      "\n",
      "Reshaped Kg_per_ha array shape: (34, 10)\n",
      "Total pesticide use per year (Kg/ha, first 10 values): [9.22 9.75 8.91 7.8  7.45 7.68 7.95 8.08 8.61 8.34]\n",
      "\n",
      "📊 Dataset Summary:\n",
      "  • Countries analyzed: 10\n",
      "  • Years covered: 1990 - 2023\n",
      "  • Total records: 1360\n"
     ]
    }
   ],
   "source": [
    "# Numerical Analysis with NumPy\n",
    "try:\n",
    "    print(\"=== Numerical Analysis with NumPy ===\")\n",
    "\n",
    "    # --- Analysis for Tonnes ---\n",
    "    print(\"\\n--- Tonnes ---\")\n",
    "    tonnes_array = merged_df_fixed['Tonnes'].dropna().to_numpy()\n",
    "    print(f\"Mean pesticide use (Tonnes): {np.mean(tonnes_array):.2f}\")\n",
    "    print(f\"Median pesticide use (Tonnes): {np.median(tonnes_array):.2f}\")\n",
    "    print(f\"Standard deviation (Tonnes): {np.std(tonnes_array):.2f}\")\n",
    "    print(f\"Variance (Tonnes): {np.var(tonnes_array):.2f}\\n\")\n",
    "\n",
    "    agg_tonnes = merged_df_fixed.groupby(['Year', 'Country'], as_index=False)['Tonnes'].mean()\n",
    "    pivoted_tonnes = agg_tonnes.pivot(index='Year', columns='Country', values='Tonnes').fillna(0)\n",
    "    reshaped_tonnes = pivoted_tonnes.to_numpy()\n",
    "    print(\"Reshaped Tonnes array shape:\", reshaped_tonnes.shape)\n",
    "    total_tonnes_per_year = np.sum(reshaped_tonnes, axis=1)\n",
    "    print(\"Total pesticide use per year (Tonnes, first 10 values):\", total_tonnes_per_year[:10])\n",
    "\n",
    "    # --- Analysis for Kg_per_ha ---\n",
    "    print(\"\\n--- Kg_per_ha ---\")\n",
    "    kg_array = merged_df_fixed['Kg_per_ha'].dropna().to_numpy()\n",
    "    print(f\"Mean pesticide use per hectare (Kg/ha): {np.mean(kg_array):.2f}\")\n",
    "    print(f\"Median pesticide use per hectare (Kg/ha): {np.median(kg_array):.2f}\")\n",
    "    print(f\"Standard deviation (Kg/ha): {np.std(kg_array):.2f}\")\n",
    "    print(f\"Variance (Kg/ha): {np.var(kg_array):.2f}\\n\")\n",
    "\n",
    "    agg_kg = merged_df_fixed.groupby(['Year', 'Country'], as_index=False)['Kg_per_ha'].mean()\n",
    "    pivoted_kg = agg_kg.pivot(index='Year', columns='Country', values='Kg_per_ha').fillna(0)\n",
    "    reshaped_kg = pivoted_kg.to_numpy()\n",
    "    print(\"Reshaped Kg_per_ha array shape:\", reshaped_kg.shape)\n",
    "    total_kg_per_year = np.sum(reshaped_kg, axis=1)\n",
    "    print(\"Total pesticide use per year (Kg/ha, first 10 values):\", total_kg_per_year[:10])\n",
    "\n",
    "    # --- Summary statistics per country (both metrics) ---\n",
    "    summary_country = merged_df_fixed.groupby('Country').agg({\n",
    "        'Kg_per_ha': ['count', 'mean', 'std', 'min', 'max'],\n",
    "        'Tonnes': ['mean', 'std', 'min', 'max']\n",
    "    }).round(2)\n",
    "\n",
    "    #Summary by country and pesticide type\n",
    "    if 'Pesticide_Type' in merged_df_fixed.columns:\n",
    "        summary_type = merged_df_fixed.groupby(['Country', 'Pesticide_Type']).agg({\n",
    "            'Kg_per_ha': ['mean', 'std', 'min', 'max'],\n",
    "            'Tonnes': ['mean', 'std', 'min', 'max']\n",
    "        }).round(2)\n",
    "\n",
    "    print(f\"\\n📊 Dataset Summary:\")\n",
    "    print(f\"  • Countries analyzed: {merged_df_fixed['Country'].nunique()}\")\n",
    "    print(f\"  • Years covered: {merged_df_fixed['Year'].min()} - {merged_df['Year'].max()}\")\n",
    "    print(f\"  • Total records: {len(merged_df_fixed)}\")\n",
    "\n",
    "except Exception as e:\n",
    "    print(\"Error: \", str(e))"
   ]
  },
  {
   "cell_type": "markdown",
   "id": "80cc55c5-ad34-4044-817f-856d6be448f4",
   "metadata": {},
   "source": [
    "## 6. Saving Cleaned Data"
   ]
  },
  {
   "cell_type": "code",
   "execution_count": 10,
   "id": "6054b159-5bbb-4675-bf50-258fa9c4ade6",
   "metadata": {},
   "outputs": [
    {
     "name": "stdout",
     "output_type": "stream",
     "text": [
      "==================================================\n",
      "SAVING CLEANED MERGED DATASET\n",
      "==================================================\n",
      "    Merged files saved successfully:\n",
      "  • Pesticide_Cleaned_Data_v3.csv\n",
      "  • Pesticide_Cleaned_Data_v3.xlsx (with multiple sheets)\n"
     ]
    }
   ],
   "source": [
    "print(\"=\"*50)\n",
    "print(\"SAVING CLEANED MERGED DATASET\")\n",
    "print(\"=\"*50)\n",
    "\n",
    "# Save merged dataset to CSV\n",
    "merged_df_fixed.to_csv('Pesticide_Cleaned_Data_v3.csv', index=False)\n",
    "\n",
    "# Save to Excel with multiple sheets\n",
    "with pd.ExcelWriter('Pesticide_Cleaned_Data.xlsx', engine='openpyxl') as writer:\n",
    "    merged_df_fixed.to_excel(writer, sheet_name='Merged_Data', index=False)\n",
    "    summary_country.to_excel(writer, sheet_name='Summary_Per_Country')\n",
    "    if 'type_col' in locals():\n",
    "        summary_type.to_excel(writer, sheet_name='Summary_Per_Type')\n",
    "\n",
    "print(\"    Merged files saved successfully:\")\n",
    "print(\"  • Pesticide_Cleaned_Data_v3.csv\")\n",
    "print(\"  • Pesticide_Cleaned_Data_v3.xlsx (with multiple sheets)\")"
   ]
  },
  {
   "cell_type": "markdown",
   "id": "033ea823-dff2-4ba8-be97-a92dc2064b77",
   "metadata": {},
   "source": [
    "## 7. Data Visualization and Analysis"
   ]
  },
  {
   "cell_type": "code",
   "execution_count": 11,
   "id": "9f57b8e5-0021-4243-8468-1ae71363f17a",
   "metadata": {},
   "outputs": [
    {
     "name": "stdout",
     "output_type": "stream",
     "text": [
      "Cleaned datasets loaded successfully!\n",
      "Pesticide Uses: (1360, 9)\n",
      "\n",
      "Visualization environment ready!\n",
      "Countries in dataset: ['Angola', 'Botswana', 'Eswatini', 'Lesotho', 'Malawi', 'Mozambique', 'Namibia', 'South Africa', 'Zambia', 'Zimbabwe']\n",
      "Years covered: 1990 - 2023\n"
     ]
    }
   ],
   "source": [
    "# Load the cleaned data\n",
    "pesticide_uses = pd.read_csv('pesticide_merged_cleaned.csv')\n",
    "\n",
    "print(\"Cleaned datasets loaded successfully!\")\n",
    "print(f\"Pesticide Uses: {pesticide_uses.shape}\")\n",
    "\n",
    "# Set style for better-looking plots\n",
    "plt.style.use('seaborn-v0_8-darkgrid')\n",
    "sns.set_palette(\"husl\")\n",
    "plt.rcParams['figure.figsize'] = (12, 6)\n",
    "plt.rcParams['font.size'] = 10\n",
    "plt.rcParams['axes.titlesize'] = 14\n",
    "plt.rcParams['axes.labelsize'] = 12\n",
    "plt.rcParams['xtick.labelsize'] = 10\n",
    "plt.rcParams['ytick.labelsize'] = 10\n",
    "plt.rcParams['legend.fontsize'] = 10\n",
    "\n",
    "# Define color palette for countries\n",
    "country_colors = {\n",
    "    'South Africa': '#1f77b4',\n",
    "    'Namibia': '#ff7f0e',\n",
    "    'Botswana': '#2ca02c',\n",
    "    'Zimbabwe': '#d62728',\n",
    "    'Mozambique': '#9467bd',\n",
    "    'Eswatini': '#8c564b',\n",
    "    'Lesotho': '#e377c2',\n",
    "    'Zambia': '#7f7f7f',\n",
    "    'Angola': '#bcbd22',\n",
    "    'Malawi': '#17becf'\n",
    "}\n",
    "\n",
    "print(\"\\nVisualization environment ready!\")\n",
    "print(f\"Countries in dataset: {sorted(pesticide_uses['Country'].unique())}\")\n",
    "print(f\"Years covered: {pesticide_uses['Year'].min()} - {pesticide_uses['Year'].max()}\")\n"
   ]
  },
  {
   "cell_type": "markdown",
   "id": "51f76b96-2961-4bed-81dd-79e1f8532c8c",
   "metadata": {},
   "source": [
    "## Pesticide Use Intensity Overview"
   ]
  },
  {
   "cell_type": "code",
   "execution_count": 12,
   "id": "01f9ebba-74f6-4611-bd43-3b3d928be41a",
   "metadata": {},
   "outputs": [
    {
     "data": {
      "image/png": "[encoded data removed]",
      "text/plain": [
       "<Figure size 1600x600 with 2 Axes>"
      ]
     },
     "metadata": {},
     "output_type": "display_data"
    },
    {
     "name": "stdout",
     "output_type": "stream",
     "text": [
      "\n",
      "KEY INSIGHTS:\n",
      "• Highest average use: Eswatini (3.94 kg/ha)\n",
      "• Lowest average use: Angola (0.02 kg/ha)\n",
      "• Regional average: 1.14 kg/ha\n"
     ]
    }
   ],
   "source": [
    "# Create overview visualization - Average pesticide use per hectare by country\n",
    "fig, (ax1, ax2) = plt.subplots(1, 2, figsize=(16, 6))\n",
    "\n",
    "# Calculate average pesticide use per hectare for each country\n",
    "avg_per_country = pesticide_uses.groupby('Country')['Kg_per_ha'].mean().sort_values()\n",
    "\n",
    "# Bar chart\n",
    "bars = ax1.barh(avg_per_country.index, avg_per_country.values,\n",
    "                color=[country_colors.get(c, '#666666') for c in avg_per_country.index])\n",
    "ax1.set_xlabel('Average Pesticide Use (kg/ha)')\n",
    "ax1.set_title('Average Pesticide Use Intensity by Country (1990-2023)', fontweight='bold')\n",
    "ax1.grid(axis='x', alpha=0.3)\n",
    "\n",
    "# Add value labels\n",
    "for i, (country, value) in enumerate(avg_per_country.items()):\n",
    "    ax1.text(value + 0.05, i, f'{value:.2f}', va='center')\n",
    "\n",
    "# Latest year comparison (2023)\n",
    "latest_year_data = pesticide_uses[pesticide_uses['Year'] == 2023]\n",
    "latest_per_country = latest_year_data.groupby('Country')['Kg_per_ha'].mean().sort_values()\n",
    "\n",
    "bars2 = ax2.barh(latest_per_country.index, latest_per_country.values,\n",
    "                 color=[country_colors.get(c, '#666666') for c in latest_per_country.index])\n",
    "ax2.set_xlabel('Pesticide Use (kg/ha)')\n",
    "ax2.set_title('Pesticide Use Intensity in 2023', fontweight='bold')\n",
    "ax2.grid(axis='x', alpha=0.3)\n",
    "\n",
    "# Add value labels\n",
    "for i, (country, value) in enumerate(latest_per_country.items()):\n",
    "    ax2.text(value + 0.05, i, f'{value:.2f}', va='center')\n",
    "\n",
    "plt.suptitle('Pesticide Use in Southern Africa: Intensity Comparison',\n",
    "             fontsize=16, fontweight='bold', y=1.02)\n",
    "plt.tight_layout()\n",
    "plt.show()\n",
    "\n",
    "# Print insights\n",
    "print(\"\\nKEY INSIGHTS:\")\n",
    "print(f\"• Highest average use: {avg_per_country.idxmax()} ({avg_per_country.max():.2f} kg/ha)\")\n",
    "print(f\"• Lowest average use: {avg_per_country.idxmin()} ({avg_per_country.min():.2f} kg/ha)\")\n",
    "print(f\"• Regional average: {avg_per_country.mean():.2f} kg/ha\")"
   ]
  },
  {
   "cell_type": "markdown",
   "id": "6c929744-4e08-4f39-9eb7-2980a0274e4f",
   "metadata": {},
   "source": [
    "## Time Series Analysis"
   ]
  },
  {
   "cell_type": "code",
   "execution_count": 13,
   "id": "6f514d0d-2415-4166-b0ad-524e80eaf163",
   "metadata": {},
   "outputs": [
    {
     "data": {
      "application/vnd.plotly.v1+json": {
       "config": {
        "plotlyServerURL": "https://plot.ly"
       },
       "data": [
        {
         "hovertemplate": "Country=Angola<br>Year=%{x}<br>Pesticide Use (kg/ha)=%{y}<extra></extra>",
         "legendgroup": "Angola",
         "line": {
          "color": "#bcbd22",
          "dash": "solid",
          "width": 2
         },
         "marker": {
          "symbol": "circle"
         },
         "mode": "lines",
         "name": "Angola",
         "showlegend": true,
         "type": "scattergl",
         "x": {
          "bdata": "xgfGB8YHxgfHB8cHxwfHB8gHyAfIB8gHyQfJB8kHyQfKB8oHygfKB8sHywfLB8sHzAfMB8wHzAfNB80HzQfNB84HzgfOB84HzwfPB88HzwfQB9AH0AfQB9EH0QfRB9EH0gfSB9IH0gfTB9MH0wfTB9QH1AfUB9QH1QfVB9UH1QfWB9YH1gfWB9cH1wfXB9cH2AfYB9gH2AfZB9kH2QfZB9oH2gfaB9oH2wfbB9sH2wfcB9wH3AfcB90H3QfdB90H3gfeB94H3gffB98H3wffB+AH4AfgB+AH4QfhB+EH4QfiB+IH4gfiB+MH4wfjB+MH5AfkB+QH5AflB+UH5QflB+YH5gfmB+YH5wfnB+cH5wc=",
          "dtype": "i2"
         },
         "xaxis": "x",
         "y": {
          "bdata": "exSuR+F6lD97FK5H4XqUP3sUrkfhepQ/exSuR+F6lD+4HoXrUbieP7gehetRuJ4/uB6F61G4nj+bHoXrUbieP3sUrkfheoQ/exSuR+F6hD97FK5H4XqEP0EUrkfheoQ/mpmZmZmZqT+amZmZmZmpP5qZmZmZmak/i5mZmZmZqT+4HoXrUbieP7gehetRuJ4/uB6F61G4nj+bHoXrUbiePylcj8L1KLw/KVyPwvUovD8pXI/C9Si8Pylcj8L1KLw/exSuR+F6hD97FK5H4XqEP3sUrkfheoQ/exSuR+F6hD97FK5H4XqEP3sUrkfheoQ/exSuR+F6hD97FK5H4XqEP3sUrkfheoQ/exSuR+F6hD97FK5H4XqEP3sUrkfheoQ/exSuR+F6hD97FK5H4XqEP3sUrkfheoQ/exSuR+F6hD97FK5H4XqEP3sUrkfheoQ/exSuR+F6hD97FK5H4XqEP3sUrkfheoQ/exSuR+F6hD97FK5H4XqEP3sUrkfheoQ/exSuR+F6hD97FK5H4XqEP3sUrkfheoQ/exSuR+F6hD97FK5H4XqEP3sUrkfheoQ/exSuR+F6hD97FK5H4XqEP3sUrkfheoQ/exSuR+F6hD97FK5H4XqEP3sUrkfheoQ/exSuR+F6hD97FK5H4XqEP3sUrkfheoQ/exSuR+F6hD97FK5H4XqEP3sUrkfheoQ/exSuR+F6hD97FK5H4XqEP3sUrkfheoQ/exSuR+F6hD97FK5H4XqEP3sUrkfheoQ/exSuR+F6hD97FK5H4XqEP3sUrkfheoQ/exSuR+F6hD97FK5H4XqEP3sUrkfheoQ/exSuR+F6hD97FK5H4XqEP3sUrkfheoQ/exSuR+F6hD97FK5H4XqEP3sUrkfheoQ/exSuR+F6hD97FK5H4XqEP3sUrkfheoQ/exSuR+F6hD97FK5H4XqEP3sUrkfheoQ/exSuR+F6hD97FK5H4XqEP3sUrkfheoQ/exSuR+F6hD97FK5H4XqEP3sUrkfheoQ/exSuR+F6hD97FK5H4XqEP3sUrkfheoQ/exSuR+F6hD97FK5H4XqEP3sUrkfheoQ/exSuR+F6hD97FK5H4XqEP3sUrkfheoQ/exSuR+F6hD97FK5H4XqEP3sUrkfheoQ/exSuR+F6hD97FK5H4XqEP3sUrkfheoQ/exSuR+F6hD97FK5H4XqEP3sUrkfheoQ/exSuR+F6hD97FK5H4XqEP3sUrkfheoQ/exSuR+F6hD97FK5H4XqEP3sUrkfheoQ/exSuR+F6hD97FK5H4XqEP3sUrkfheoQ/exSuR+F6hD97FK5H4XqEP3sUrkfheoQ/exSuR+F6hD97FK5H4XqEP3sUrkfheoQ/exSuR+F6hD97FK5H4XqEP3sUrkfheoQ/exSuR+F6hD97FK5H4XqEP3sUrkfheoQ/exSuR+F6hD8=",
          "dtype": "f8"
         },
         "yaxis": "y"
        },
        {
         "hovertemplate": "Country=Botswana<br>Year=%{x}<br>Pesticide Use (kg/ha)=%{y}<extra></extra>",
         "legendgroup": "Botswana",
         "line": {
          "color": "#2ca02c",
          "dash": "solid",
          "width": 2
         },
         "marker": {
          "symbol": "circle"
         },
         "mode": "lines",
         "name": "Botswana",
         "showlegend": true,
         "type": "scattergl",
         "x": {
          "bdata": "xgfGB8YHxgfHB8cHxwfHB8gHyAfIB8gHyQfJB8kHyQfKB8oHygfKB8sHywfLB8sHzAfMB8wHzAfNB80HzQfNB84HzgfOB84HzwfPB88HzwfQB9AH0AfQB9EH0QfRB9EH0gfSB9IH0gfTB9MH0wfTB9QH1AfUB9QH1QfVB9UH1QfWB9YH1gfWB9cH1wfXB9cH2AfYB9gH2AfZB9kH2QfZB9oH2gfaB9oH2wfbB9sH2wfcB9wH3AfcB90H3QfdB90H3gfeB94H3gffB98H3wffB+AH4AfgB+AH4QfhB+EH4QfiB+IH4gfiB+MH4wfjB+MH5AfkB+QH5AflB+UH5QflB+YH5gfmB+YH5wfnB+cH5wc=",
          "dtype": "i2"
         },
         "xaxis": "x",
         "y": {
          "bdata": "j8L1KFyP6j+PwvUoXI/qP4/C9Shcj+o/j8L1KFyP6j+amZmZmZnxP5qZmZmZmfE/mpmZmZmZ8T+amZmZmZnxPwAAAAAAAPQ/AAAAAAAA9D8AAAAAAAD0PwAAAAAAAPQ/XI/C9Shc5z9cj8L1KFznP1yPwvUoXOc/W4/C9Shc5z/2KFyPwvXgP/YoXI/C9eA/9ihcj8L14D/2KFyPwvXgPwAAAAAAAOA/AAAAAAAA4D8AAAAAAADgPwAAAAAAAOA/UrgehetR4D9SuB6F61HgP1K4HoXrUeA/UrgehetR4D97FK5H4XrkP3sUrkfheuQ/exSuR+F65D97FK5H4XrkP1yPwvUoXO8/XI/C9Shc7z9cj8L1KFzvP1yPwvUoXO8/CtejcD0K8z8K16NwPQrzPwrXo3A9CvM/C9ejcD0K8z8fhetRuB7xPx+F61G4HvE/H4XrUbge8T8fhetRuB7xP1yPwvUoXAFAXI/C9ShcAUBcj8L1KFwBQFyPwvUoXAFAKVyPwvUo/D8pXI/C9Sj8Pylcj8L1KPw/KVyPwvUo/D8K16NwPQr/PwrXo3A9Cv8/CtejcD0K/z8K16NwPQr/Pz0K16NwPfY/PQrXo3A99j89CtejcD32Pz0K16NwPfY/exSuR+F6+D97FK5H4Xr4P3sUrkfhevg/exSuR+F6+D8UrkfhehQAQBSuR+F6FABAFK5H4XoUAEAUrkfhehQAQOF6FK5H4QJA4XoUrkfhAkDhehSuR+ECQOF6FK5H4QJAexSuR+F6+D97FK5H4Xr4P3sUrkfhevg/exSuR+F6+D8K16NwPQrzPwrXo3A9CvM/CtejcD0K8z8K16NwPQrzPwAAAAAAAPg/AAAAAAAA+D8AAAAAAAD4PwAAAAAAAPg/zczMzMzM9D/NzMzMzMz0P83MzMzMzPQ/zczMzMzM9D9xPQrXo3D5P3E9CtejcPk/cT0K16Nw+T9xPQrXo3D5P1yPwvUoXPs/XI/C9Shc+z9cj8L1KFz7P1qPwvUoXPs/j8L1KFyP8j+PwvUoXI/yP4/C9Shcj/I/j8L1KFyP8j/NzMzMzMwCQM3MzMzMzAJAzczMzMzMAkDNzMzMzMwCQKRwPQrXowZApHA9CtejBkCkcD0K16MGQKRwPQrXowZA4XoUrkfhDEDhehSuR+EMQOF6FK5H4QxA4XoUrkfhDEDhehSuR+EKQOF6FK5H4QpA4XoUrkfhCkDiehSuR+EKQGZmZmZmZg5AZmZmZmZmDkBmZmZmZmYOQGZmZmZmZg5AMzMzMzMzEkAzMzMzMzMSQDMzMzMzMxJAMzMzMzMzEkApXI/C9SgVQClcj8L1KBVAKVyPwvUoFUApXI/C9SgVQHE9CtejcBVAcT0K16NwFUBxPQrXo3AVQHI9CtejcBVAZmZmZmZmE0BmZmZmZmYTQGZmZmZmZhNAZmZmZmZmE0A=",
          "dtype": "f8"
         },
         "yaxis": "y"
        },
        {
         "hovertemplate": "Country=Lesotho<br>Year=%{x}<br>Pesticide Use (kg/ha)=%{y}<extra></extra>",
         "legendgroup": "Lesotho",
         "line": {
          "color": "#e377c2",
          "dash": "solid",
          "width": 2
         },
         "marker": {
          "symbol": "circle"
         },
         "mode": "lines",
         "name": "Lesotho",
         "showlegend": true,
         "type": "scattergl",
         "x": {
          "bdata": "xgfGB8YHxgfHB8cHxwfHB8gHyAfIB8gHyQfJB8kHyQfKB8oHygfKB8sHywfLB8sHzAfMB8wHzAfNB80HzQfNB84HzgfOB84HzwfPB88HzwfQB9AH0AfQB9EH0QfRB9EH0gfSB9IH0gfTB9MH0wfTB9QH1AfUB9QH1QfVB9UH1QfWB9YH1gfWB9cH1wfXB9cH2AfYB9gH2AfZB9kH2QfZB9oH2gfaB9oH2wfbB9sH2wfcB9wH3AfcB90H3QfdB90H3gfeB94H3gffB98H3wffB+AH4AfgB+AH4QfhB+EH4QfiB+IH4gfiB+MH4wfjB+MH5AfkB+QH5AflB+UH5QflB+YH5gfmB+YH5wfnB+cH5wc=",
          "dtype": "i2"
         },
         "xaxis": "x",
         "y": {
          "bdata": "exSuR+F6lD97FK5H4XqUP3sUrkfhepQ/exSuR+F6lD97FK5H4XqUP3sUrkfhepQ/exSuR+F6lD97FK5H4XqUP3sUrkfhepQ/exSuR+F6lD97FK5H4XqUP3sUrkfhepQ/exSuR+F6lD97FK5H4XqUP3sUrkfhepQ/exSuR+F6lD97FK5H4XqUP3sUrkfhepQ/exSuR+F6lD97FK5H4XqUP3sUrkfhepQ/exSuR+F6lD97FK5H4XqUP3sUrkfhepQ/exSuR+F6lD97FK5H4XqUP3sUrkfhepQ/exSuR+F6lD97FK5H4XqUP3sUrkfhepQ/exSuR+F6lD97FK5H4XqUP3sUrkfheoQ/exSuR+F6hD97FK5H4XqEP3sUrkfheoQ/exSuR+F6hD97FK5H4XqEP3sUrkfheoQ/exSuR+F6hD97FK5H4XqUP3sUrkfhepQ/exSuR+F6lD97FK5H4XqUP7gehetRuJ4/uB6F61G4nj+4HoXrUbieP7gehetRuJ4/mpmZmZmZuT+amZmZmZm5P5qZmZmZmbk/mpmZmZmZuT8K16NwPQq3PwrXo3A9Crc/CtejcD0Ktz8K16NwPQq3PwrXo3A9Crc/CtejcD0Ktz8K16NwPQq3PwrXo3A9Crc/exSuR+F6pD97FK5H4XqkP3sUrkfheqQ/exSuR+F6pD/sUbgeheuxP+xRuB6F67E/7FG4HoXrsT/sUbgeheuxP+xRuB6F67E/7FG4HoXrsT/sUbgeheuxP+RRuB6F67E/mpmZmZmZqT+amZmZmZmpP5qZmZmZmak/mpmZmZmZqT97FK5H4XqkP3sUrkfheqQ/exSuR+F6pD97FK5H4XqkP3sUrkfhepQ/exSuR+F6lD97FK5H4XqUP3sUrkfhepQ/mpmZmZmZqT+amZmZmZmpP5qZmZmZmak/mpmZmZmZqT+amZmZmZmpP5qZmZmZmak/mpmZmZmZqT+LmZmZmZmpPwrXo3A9Crc/CtejcD0Ktz8K16NwPQq3PwrXo3A9Crc/uB6F61G4rj+4HoXrUbiuP7gehetRuK4/uB6F61G4rj8AAAAAAADQPwAAAAAAANA/AAAAAAAA0D8AAAAAAADQP+F6FK5H4co/4XoUrkfhyj/hehSuR+HKP+F6FK5H4co/mpmZmZmZyT+amZmZmZnJP5qZmZmZmck/mpmZmZmZyT97FK5H4XrEP3sUrkfhesQ/exSuR+F6xD97FK5H4XrEP1yPwvUoXOc/XI/C9Shc5z9cj8L1KFznP1yPwvUoXOc/KVyPwvUo5D8pXI/C9SjkPylcj8L1KOQ/KlyPwvUo5D+kcD0K16PwP6RwPQrXo/A/pHA9Ctej8D+kcD0K16PwP1K4HoXrUfw/UrgehetR/D9SuB6F61H8P1K4HoXrUfw/exSuR+F6+D97FK5H4Xr4P3sUrkfhevg/fBSuR+F6+D8=",
          "dtype": "f8"
         },
         "yaxis": "y"
        },
        {
         "hovertemplate": "Country=Mozambique<br>Year=%{x}<br>Pesticide Use (kg/ha)=%{y}<extra></extra>",
         "legendgroup": "Mozambique",
         "line": {
          "color": "#9467bd",
          "dash": "solid",
          "width": 2
         },
         "marker": {
          "symbol": "circle"
         },
         "mode": "lines",
         "name": "Mozambique",
         "showlegend": true,
         "type": "scattergl",
         "x": {
          "bdata": "xgfGB8YHxgfHB8cHxwfHB8gHyAfIB8gHyQfJB8kHyQfKB8oHygfKB8sHywfLB8sHzAfMB8wHzAfNB80HzQfNB84HzgfOB84HzwfPB88HzwfQB9AH0AfQB9EH0QfRB9EH0gfSB9IH0gfTB9MH0wfTB9QH1AfUB9QH1QfVB9UH1QfWB9YH1gfWB9cH1wfXB9cH2AfYB9gH2AfZB9kH2QfZB9oH2gfaB9oH2wfbB9sH2wfcB9wH3AfcB90H3QfdB90H3gfeB94H3gffB98H3wffB+AH4AfgB+AH4QfhB+EH4QfiB+IH4gfiB+MH4wfjB+MH5AfkB+QH5AflB+UH5QflB+YH5gfmB+YH5wfnB+cH5wc=",
          "dtype": "i2"
         },
         "xaxis": "x",
         "y": {
          "bdata": "uB6F61G4nj+4HoXrUbieP7gehetRuJ4/mx6F61G4nj+4HoXrUbieP7gehetRuJ4/uB6F61G4nj+bHoXrUbieP7gehetRuJ4/uB6F61G4nj+4HoXrUbieP5sehetRuJ4/uB6F61G4nj+4HoXrUbieP7gehetRuJ4/mx6F61G4nj+4HoXrUbieP7gehetRuJ4/uB6F61G4nj+bHoXrUbieP3sUrkfhepQ/exSuR+F6lD97FK5H4XqUP3sUrkfhepQ/exSuR+F6lD97FK5H4XqUP3sUrkfhepQ/exSuR+F6lD97FK5H4XqEP3sUrkfheoQ/exSuR+F6hD97FK5H4XqEP3sUrkfhepQ/exSuR+F6lD97FK5H4XqUP3sUrkfhepQ/uB6F61G4nj+4HoXrUbieP7gehetRuJ4/uB6F61G4nj+4HoXrUbieP7gehetRuJ4/uB6F61G4nj+4HoXrUbieP3sUrkfheqQ/exSuR+F6pD97FK5H4XqkP3sUrkfheqQ/exSuR+F6pD97FK5H4XqkP3sUrkfheqQ/exSuR+F6pD+amZmZmZmpP5qZmZmZmak/mpmZmZmZqT+amZmZmZmpP5qZmZmZmak/mpmZmZmZqT+amZmZmZmpP5qZmZmZmak/mpmZmZmZqT+amZmZmZmpP5qZmZmZmak/i5mZmZmZqT+4HoXrUbiuP7gehetRuK4/uB6F61G4rj+qHoXrUbiuP7gehetRuK4/uB6F61G4rj+4HoXrUbiuP7gehetRuK4/uB6F61G4rj+4HoXrUbiuP7gehetRuK4/uB6F61G4rj+4HoXrUbiuP7gehetRuK4/uB6F61G4rj+4HoXrUbiuP+xRuB6F67E/7FG4HoXrsT/sUbgeheuxP+xRuB6F67E/7FG4HoXrsT/sUbgeheuxP+xRuB6F67E/7FG4HoXrsT/sUbgeheuxP+xRuB6F67E/7FG4HoXrsT/sUbgeheuxP3sUrkfherQ/exSuR+F6tD97FK5H4Xq0P3QUrkfherQ/exSuR+F6tD97FK5H4Xq0P3sUrkfherQ/dBSuR+F6tD8K16NwPQq3PwrXo3A9Crc/CtejcD0Ktz8K16NwPQq3PwrXo3A9Crc/CtejcD0Ktz8K16NwPQq3PwrXo3A9Crc/CtejcD0Ktz8K16NwPQq3PwrXo3A9Crc/CtejcD0Ktz+4HoXrUbi+P7gehetRuL4/uB6F61G4vj+4HoXrUbi+P+xRuB6F68E/7FG4HoXrwT/sUbgehevBP+xRuB6F68E/w/UoXI/CxT/D9Shcj8LFP8P1KFyPwsU/v/UoXI/CxT8K16NwPQrHPwrXo3A9Csc/CtejcD0Kxz8H16NwPQrHP8P1KFyPwtU/w/UoXI/C1T/D9Shcj8LVP8H1KFyPwtU/SOF6FK5H4T9I4XoUrkfhP0jhehSuR+E/SOF6FK5H4T8=",
          "dtype": "f8"
         },
         "yaxis": "y"
        },
        {
         "hovertemplate": "Country=Malawi<br>Year=%{x}<br>Pesticide Use (kg/ha)=%{y}<extra></extra>",
         "legendgroup": "Malawi",
         "line": {
          "color": "#17becf",
          "dash": "solid",
          "width": 2
         },
         "marker": {
          "symbol": "circle"
         },
         "mode": "lines",
         "name": "Malawi",
         "showlegend": true,
         "type": "scattergl",
         "x": {
          "bdata": "xgfGB8YHxgfHB8cHxwfHB8gHyAfIB8gHyQfJB8kHyQfKB8oHygfKB8sHywfLB8sHzAfMB8wHzAfNB80HzQfNB84HzgfOB84HzwfPB88HzwfQB9AH0AfQB9EH0QfRB9EH0gfSB9IH0gfTB9MH0wfTB9QH1AfUB9QH1QfVB9UH1QfWB9YH1gfWB9cH1wfXB9cH2AfYB9gH2AfZB9kH2QfZB9oH2gfaB9oH2wfbB9sH2wfcB9wH3AfcB90H3QfdB90H3gfeB94H3gffB98H3wffB+AH4AfgB+AH4QfhB+EH4QfiB+IH4gfiB+MH4wfjB+MH5AfkB+QH5AflB+UH5QflB+YH5gfmB+YH5wfnB+cH5wc=",
          "dtype": "i2"
         },
         "xaxis": "x",
         "y": {
          "bdata": "7FG4HoXrsT/sUbgeheuxP+xRuB6F67E/7FG4HoXrsT/sUbgeheuxP+xRuB6F67E/7FG4HoXrsT/sUbgeheuxP+xRuB6F67E/7FG4HoXrsT/sUbgeheuxP+xRuB6F67E/7FG4HoXrsT/sUbgeheuxP+xRuB6F67E/7FG4HoXrsT97FK5H4Xq0P3sUrkfherQ/exSuR+F6tD97FK5H4Xq0P+xRuB6F67E/7FG4HoXrsT/sUbgeheuxP+xRuB6F67E/7FG4HoXrsT/sUbgeheuxP+xRuB6F67E/7FG4HoXrsT/sUbgeheuxP+xRuB6F67E/7FG4HoXrsT/sUbgeheuxP5qZmZmZmak/mpmZmZmZqT+amZmZmZmpP5qZmZmZmak/exSuR+F6pD97FK5H4XqkP3sUrkfheqQ/exSuR+F6pD/sUbgeheuxP+xRuB6F67E/7FG4HoXrsT/sUbgeheuxP7gehetRuK4/uB6F61G4rj+4HoXrUbiuP7gehetRuK4/exSuR+F6pD97FK5H4XqkP3sUrkfheqQ/exSuR+F6pD+4HoXrUbieP7gehetRuJ4/uB6F61G4nj+bHoXrUbieP3sUrkfhepQ/exSuR+F6lD97FK5H4XqUP3sUrkfhepQ/CtejcD0Ktz8K16NwPQq3PwrXo3A9Crc/CtejcD0Ktz+4HoXrUbiuP7gehetRuK4/uB6F61G4rj+4HoXrUbiuPzMzMzMzM8M/MzMzMzMzwz8zMzMzMzPDPzMzMzMzM8M/w/UoXI/CxT/D9Shcj8LFP8P1KFyPwsU/v/UoXI/CxT+amZmZmZnJP5qZmZmZmck/mpmZmZmZyT+amZmZmZnJP3sUrkfhesQ/exSuR+F6xD97FK5H4XrEP3sUrkfhesQ/MzMzMzMzwz8zMzMzMzPDPzMzMzMzM8M/MzMzMzMzwz/hehSuR+HKP+F6FK5H4co/4XoUrkfhyj/hehSuR+HKPz0K16NwPdo/PQrXo3A92j89CtejcD3aPz0K16NwPdo/16NwPQrX4z/Xo3A9CtfjP9ejcD0K1+M/16NwPQrX4z+PwvUoXI/iP4/C9Shcj+I/j8L1KFyP4j+PwvUoXI/iP/YoXI/C9eA/9ihcj8L14D/2KFyPwvXgP/YoXI/C9eA/XI/C9Shc3z9cj8L1KFzfP1yPwvUoXN8/XI/C9Shc3z/NzMzMzMzcP83MzMzMzNw/zczMzMzM3D/NzMzMzMzcPz0K16NwPdo/PQrXo3A92j89CtejcD3aPzwK16NwPdo/rkfhehSu1z+uR+F6FK7XP65H4XoUrtc/rEfhehSu1z/D9Shcj8LVP8P1KFyPwtU/w/UoXI/C1T/E9Shcj8LVP7gehetRuN4/uB6F61G43j+4HoXrUbjeP7gehetRuN4/uB6F61G43j+4HoXrUbjeP7gehetRuN4/uB6F61G43j8=",
          "dtype": "f8"
         },
         "yaxis": "y"
        },
        {
         "hovertemplate": "Country=Namibia<br>Year=%{x}<br>Pesticide Use (kg/ha)=%{y}<extra></extra>",
         "legendgroup": "Namibia",
         "line": {
          "color": "#ff7f0e",
          "dash": "solid",
          "width": 2
         },
         "marker": {
          "symbol": "circle"
         },
         "mode": "lines",
         "name": "Namibia",
         "showlegend": true,
         "type": "scattergl",
         "x": {
          "bdata": "xgfGB8YHxgfHB8cHxwfHB8gHyAfIB8gHyQfJB8kHyQfKB8oHygfKB8sHywfLB8sHzAfMB8wHzAfNB80HzQfNB84HzgfOB84HzwfPB88HzwfQB9AH0AfQB9EH0QfRB9EH0gfSB9IH0gfTB9MH0wfTB9QH1AfUB9QH1QfVB9UH1QfWB9YH1gfWB9cH1wfXB9cH2AfYB9gH2AfZB9kH2QfZB9oH2gfaB9oH2wfbB9sH2wfcB9wH3AfcB90H3QfdB90H3gfeB94H3gffB98H3wffB+AH4AfgB+AH4QfhB+EH4QfiB+IH4gfiB+MH4wfjB+MH5AfkB+QH5AflB+UH5QflB+YH5gfmB+YH5wfnB+cH5wc=",
          "dtype": "i2"
         },
         "xaxis": "x",
         "y": {
          "bdata": "16NwPQrX6z/Xo3A9CtfrP9ejcD0K1+s/1qNwPQrX6z/Xo3A9CtfrP9ejcD0K1+s/16NwPQrX6z/Yo3A9CtfrP9ejcD0K1+s/16NwPQrX6z/Xo3A9CtfrP9ijcD0K1+s/PQrXo3A96j89CtejcD3qPz0K16NwPeo/PQrXo3A96j9SuB6F61HoP1K4HoXrUeg/UrgehetR6D9RuB6F61HoP2ZmZmZmZuY/ZmZmZmZm5j9mZmZmZmbmP2ZmZmZmZuY/ZmZmZmZm5j9mZmZmZmbmP2ZmZmZmZuY/ZmZmZmZm5j9mZmZmZmbmP2ZmZmZmZuY/ZmZmZmZm5j9mZmZmZmbmP2ZmZmZmZuY/ZmZmZmZm5j9mZmZmZmbmP2ZmZmZmZuY/ZmZmZmZm5j9mZmZmZmbmP2ZmZmZmZuY/ZmZmZmZm5j/D9Shcj8L5P8P1KFyPwvk/w/UoXI/C+T/D9Shcj8L5Pz0K16NwPfo/PQrXo3A9+j89CtejcD36Pz0K16NwPfo/pHA9Ctej+D+kcD0K16P4P6RwPQrXo/g/pHA9Ctej+D9cj8L1KFzfP1yPwvUoXN8/XI/C9Shc3z9cj8L1KFzfP2ZmZmZmZtY/ZmZmZmZm1j9mZmZmZmbWP2ZmZmZmZtY/hetRuB6F2z+F61G4HoXbP4XrUbgehds/g+tRuB6F2z9cj8L1KFzfP1yPwvUoXN8/XI/C9Shc3z9cj8L1KFzfP+F6FK5H4eI/4XoUrkfh4j/hehSuR+HiP+F6FK5H4eI/uB6F61G45j+4HoXrUbjmP7gehetRuOY/uR6F61G45j+uR+F6FK7nP65H4XoUruc/rkfhehSu5z+tR+F6FK7nP+xRuB6F6+k/7FG4HoXr6T/sUbgehevpP+xRuB6F6+k/uB6F61G45j+4HoXrUbjmP7gehetRuOY/uB6F61G45j9SuB6F61HoP1K4HoXrUeg/UrgehetR6D9SuB6F61HoP7gehetRuO4/uB6F61G47j+4HoXrUbjuP7gehetRuO4/UrgehetR8D9SuB6F61HwP1K4HoXrUfA/UrgehetR8D9mZmZmZmbyP2ZmZmZmZvI/ZmZmZmZm8j9mZmZmZmbyP65H4XoUru8/rkfhehSu7z+uR+F6FK7vP65H4XoUru8/9ihcj8L18D/2KFyPwvXwP/YoXI/C9fA/9ihcj8L18D97FK5H4XrwP3sUrkfhevA/exSuR+F68D97FK5H4XrwP+xRuB6F6/E/7FG4HoXr8T/sUbgehevxP+xRuB6F6/E/16NwPQrX8z/Xo3A9CtfzP9ejcD0K1/M/16NwPQrX8z/hehSuR+H2P+F6FK5H4fY/4XoUrkfh9j/hehSuR+H2P4XrUbgehfc/hetRuB6F9z+F61G4HoX3P4XrUbgehfc/XI/C9Shc9z9cj8L1KFz3P1yPwvUoXPc/XI/C9Shc9z8=",
          "dtype": "f8"
         },
         "yaxis": "y"
        },
        {
         "hovertemplate": "Country=Eswatini<br>Year=%{x}<br>Pesticide Use (kg/ha)=%{y}<extra></extra>",
         "legendgroup": "Eswatini",
         "line": {
          "color": "#8c564b",
          "dash": "solid",
          "width": 2
         },
         "marker": {
          "symbol": "circle"
         },
         "mode": "lines",
         "name": "Eswatini",
         "showlegend": true,
         "type": "scattergl",
         "x": {
          "bdata": "xgfGB8YHxgfHB8cHxwfHB8gHyAfIB8gHyQfJB8kHyQfKB8oHygfKB8sHywfLB8sHzAfMB8wHzAfNB80HzQfNB84HzgfOB84HzwfPB88HzwfQB9AH0AfQB9EH0QfRB9EH0gfSB9IH0gfTB9MH0wfTB9QH1AfUB9QH1QfVB9UH1QfWB9YH1gfWB9cH1wfXB9cH2AfYB9gH2AfZB9kH2QfZB9oH2gfaB9oH2wfbB9sH2wfcB9wH3AfcB90H3QfdB90H3gfeB94H3gffB98H3wffB+AH4AfgB+AH4QfhB+EH4QfiB+IH4gfiB+MH4wfjB+MH5AfkB+QH5AflB+UH5QflB+YH5gfmB+YH5wfnB+cH5wc=",
          "dtype": "i2"
         },
         "xaxis": "x",
         "y": {
          "bdata": "4XoUrkfhDkDhehSuR+EOQOF6FK5H4Q5A4XoUrkfhDkBmZmZmZmYOQGZmZmZmZg5AZmZmZmZmDkBmZmZmZmYOQArXo3A9Cg9ACtejcD0KD0AK16NwPQoPQArXo3A9Cg9AMzMzMzMzD0AzMzMzMzMPQDMzMzMzMw9AMzMzMzMzD0AzMzMzMzMPQDMzMzMzMw9AMzMzMzMzD0AzMzMzMzMPQDMzMzMzMw9AMzMzMzMzD0AzMzMzMzMPQDMzMzMzMw9AMzMzMzMzD0AzMzMzMzMPQDMzMzMzMw9AMzMzMzMzD0AK16NwPQoNQArXo3A9Cg1ACtejcD0KDUAK16NwPQoNQHsUrkfhegxAexSuR+F6DEB7FK5H4XoMQHsUrkfhegxAw/UoXI/CB0DD9Shcj8IHQMP1KFyPwgdAw/UoXI/CB0AfhetRuB4HQB+F61G4HgdAH4XrUbgeB0AfhetRuB4HQOF6FK5H4QJA4XoUrkfhAkDhehSuR+ECQOF6FK5H4QJAmpmZmZmZD0CamZmZmZkPQJqZmZmZmQ9AmpmZmZmZD0AK16NwPQoUQArXo3A9ChRACtejcD0KFEAK16NwPQoUQEjhehSuRxpASOF6FK5HGkBI4XoUrkcaQEfhehSuRxpAw/UoXI/CFkDD9Shcj8IWQMP1KFyPwhZAw/UoXI/CFkDD9Shcj8IRQMP1KFyPwhFAw/UoXI/CEUDD9Shcj8IRQGZmZmZmZgJAZmZmZmZmAkBmZmZmZmYCQGZmZmZmZgJApHA9Ctej8D+kcD0K16PwP6RwPQrXo/A/pHA9Ctej8D+4HoXrUbjuP7gehetRuO4/uB6F61G47j+4HoXrUbjuPylcj8L1KARAKVyPwvUoBEApXI/C9SgEQClcj8L1KARAexSuR+F6CEB7FK5H4XoIQHsUrkfheghAexSuR+F6CEA9CtejcD0IQD0K16NwPQhAPQrXo3A9CEA9CtejcD0IQB+F61G4HgNAH4XrUbgeA0AfhetRuB4DQB+F61G4HgNAhetRuB6FBUCF61G4HoUFQIXrUbgehQVAhutRuB6FBUAAAAAAAAAIQAAAAAAAAAhAAAAAAAAACEAAAAAAAAAIQBSuR+F6FAxAFK5H4XoUDEAUrkfhehQMQBSuR+F6FAxAzczMzMzMEUDNzMzMzMwRQM3MzMzMzBFAzszMzMzMEUBSuB6F61EVQFK4HoXrURVAUrgehetRFUBSuB6F61EVQI/C9ShcjxdAj8L1KFyPF0CPwvUoXI8XQJDC9ShcjxdAZmZmZmZmGUBmZmZmZmYZQGZmZmZmZhlAZmZmZmZmGUBI4XoUrkcaQEjhehSuRxpASOF6FK5HGkBI4XoUrkcaQB+F61G4HhpAH4XrUbgeGkAfhetRuB4aQB+F61G4HhpA16NwPQrXGEDXo3A9CtcYQNejcD0K1xhA16NwPQrXGEA=",
          "dtype": "f8"
         },
         "yaxis": "y"
        },
        {
         "hovertemplate": "Country=South Africa<br>Year=%{x}<br>Pesticide Use (kg/ha)=%{y}<extra></extra>",
         "legendgroup": "South Africa",
         "line": {
          "color": "#1f77b4",
          "dash": "solid",
          "width": 2
         },
         "marker": {
          "symbol": "circle"
         },
         "mode": "lines",
         "name": "South Africa",
         "showlegend": true,
         "type": "scattergl",
         "x": {
          "bdata": "xgfGB8YHxgfHB8cHxwfHB8gHyAfIB8gHyQfJB8kHyQfKB8oHygfKB8sHywfLB8sHzAfMB8wHzAfNB80HzQfNB84HzgfOB84HzwfPB88HzwfQB9AH0AfQB9EH0QfRB9EH0gfSB9IH0gfTB9MH0wfTB9QH1AfUB9QH1QfVB9UH1QfWB9YH1gfWB9cH1wfXB9cH2AfYB9gH2AfZB9kH2QfZB9oH2gfaB9oH2wfbB9sH2wfcB9wH3AfcB90H3QfdB90H3gfeB94H3gffB98H3wffB+AH4AfgB+AH4QfhB+EH4QfiB+IH4gfiB+MH4wfjB+MH5AfkB+QH5AflB+UH5QflB+YH5gfmB+YH5wfnB+cH5wc=",
          "dtype": "i2"
         },
         "xaxis": "x",
         "y": {
          "bdata": "UrgehetR9D9SuB6F61H0P1K4HoXrUfQ/UrgehetR9D8pXI/C9Sj0Pylcj8L1KPQ/KVyPwvUo9D8pXI/C9Sj0P65H4XoUrvM/rkfhehSu8z+uR+F6FK7zP65H4XoUrvM/XI/C9Shc8z9cj8L1KFzzP1yPwvUoXPM/XI/C9Shc8z8zMzMzMzPzPzMzMzMzM/M/MzMzMzMz8z8zMzMzMzPzP83MzMzMzPQ/zczMzMzM9D/NzMzMzMz0P83MzMzMzPQ/PQrXo3A99j89CtejcD32Pz0K16NwPfY/PQrXo3A99j+kcD0K16P4P6RwPQrXo/g/pHA9Ctej+D+kcD0K16P4P65H4XoUrvs/rkfhehSu+z+uR+F6FK77P65H4XoUrvs/mpmZmZmZ/T+amZmZmZn9P5qZmZmZmf0/mpmZmZmZ/T89CtejcD3+Pz0K16NwPf4/PQrXo3A9/j89CtejcD3+P0jhehSuR/0/SOF6FK5H/T9I4XoUrkf9P0jhehSuR/0/4XoUrkfh/j/hehSuR+H+P+F6FK5H4f4/4XoUrkfh/j8zMzMzMzP/PzMzMzMzM/8/MzMzMzMz/z8zMzMzMzP/P2ZmZmZmZgBAZmZmZmZmAEBmZmZmZmYAQGZmZmZmZgBAhetRuB6FAUCF61G4HoUBQIXrUbgehQFAhetRuB6FAUDD9Shcj8IBQMP1KFyPwgFAw/UoXI/CAUDD9Shcj8IBQClcj8L1KAJAKVyPwvUoAkApXI/C9SgCQCpcj8L1KAJAFK5H4XoUBEAUrkfhehQEQBSuR+F6FARAFK5H4XoUBEAAAAAAAAAEQAAAAAAAAARAAAAAAAAABEAAAAAAAAAEQLgehetRuARAuB6F61G4BEC4HoXrUbgEQLkehetRuARAcT0K16NwBUBxPQrXo3AFQHE9CtejcAVAcT0K16NwBUApXI/C9SgGQClcj8L1KAZAKVyPwvUoBkApXI/C9SgGQHE9CtejcAdAcT0K16NwB0BxPQrXo3AHQHE9CtejcAdAuB6F61G4CEC4HoXrUbgIQLgehetRuAhAtx6F61G4CEBSuB6F61EIQFK4HoXrUQhAUrgehetRCEBSuB6F61EIQB+F61G4HgdAH4XrUbgeB0AfhetRuB4HQB+F61G4HgdAcT0K16NwCUBxPQrXo3AJQHE9CtejcAlAcT0K16NwCUAfhetRuB4JQB+F61G4HglAH4XrUbgeCUAfhetRuB4JQDMzMzMzMwlAMzMzMzMzCUAzMzMzMzMJQDIzMzMzMwlAzczMzMzMCkDNzMzMzMwKQM3MzMzMzApAzczMzMzMCkBxPQrXo3ALQHE9CtejcAtAcT0K16NwC0BxPQrXo3ALQDMzMzMzMwtAMzMzMzMzC0AzMzMzMzMLQDMzMzMzMwtAH4XrUbgeC0AfhetRuB4LQB+F61G4HgtAH4XrUbgeC0A=",
          "dtype": "f8"
         },
         "yaxis": "y"
        },
        {
         "hovertemplate": "Country=Zambia<br>Year=%{x}<br>Pesticide Use (kg/ha)=%{y}<extra></extra>",
         "legendgroup": "Zambia",
         "line": {
          "color": "#7f7f7f",
          "dash": "solid",
          "width": 2
         },
         "marker": {
          "symbol": "circle"
         },
         "mode": "lines",
         "name": "Zambia",
         "showlegend": true,
         "type": "scattergl",
         "x": {
          "bdata": "xgfGB8YHxgfHB8cHxwfHB8gHyAfIB8gHyQfJB8kHyQfKB8oHygfKB8sHywfLB8sHzAfMB8wHzAfNB80HzQfNB84HzgfOB84HzwfPB88HzwfQB9AH0AfQB9EH0QfRB9EH0gfSB9IH0gfTB9MH0wfTB9QH1AfUB9QH1QfVB9UH1QfWB9YH1gfWB9cH1wfXB9cH2AfYB9gH2AfZB9kH2QfZB9oH2gfaB9oH2wfbB9sH2wfcB9wH3AfcB90H3QfdB90H3gfeB94H3gffB98H3wffB+AH4AfgB+AH4QfhB+EH4QfiB+IH4gfiB+MH4wfjB+MH5AfkB+QH5AflB+UH5QflB+YH5gfmB+YH5wfnB+cH5wc=",
          "dtype": "i2"
         },
         "xaxis": "x",
         "y": {
          "bdata": "rkfhehSu1z+uR+F6FK7XP65H4XoUrtc/rkfhehSu1z/2KFyPwvXYP/YoXI/C9dg/9ihcj8L12D/2KFyPwvXYP/YoXI/C9dg/9ihcj8L12D/2KFyPwvXYP/YoXI/C9dg/9ihcj8L12D/2KFyPwvXYP/YoXI/C9dg/9ihcj8L12D9SuB6F61HYP1K4HoXrUdg/UrgehetR2D9SuB6F61HYPwAAAAAAANA/AAAAAAAA0D8AAAAAAADQPwAAAAAAANA/j8L1KFyP4j+PwvUoXI/iP4/C9Shcj+I/j8L1KFyP4j8pXI/C9SjkPylcj8L1KOQ/KVyPwvUo5D8pXI/C9SjkP3E9CtejcOU/cT0K16Nw5T9xPQrXo3DlP3A9CtejcOU/uB6F61G45j+4HoXrUbjmP7gehetRuOY/uB6F61G45j9SuB6F61HoP1K4HoXrUeg/UrgehetR6D9TuB6F61HoP+F6FK5H4eo/4XoUrkfh6j/hehSuR+HqP+F6FK5H4eo/w/UoXI/C7T/D9Shcj8LtP8P1KFyPwu0/w/UoXI/C7T8pXI/C9SjsPylcj8L1KOw/KVyPwvUo7D8oXI/C9SjsP8P1KFyPwu0/w/UoXI/C7T/D9Shcj8LtP8P1KFyPwu0/UrgehetR8D9SuB6F61HwP1K4HoXrUfA/UbgehetR8D8K16NwPQrvPwrXo3A9Cu8/CtejcD0K7z8K16NwPQrvP3sUrkfhevA/exSuR+F68D97FK5H4XrwP3sUrkfhevA/pHA9Ctej8D+kcD0K16PwP6RwPQrXo/A/pHA9Ctej8D/D9Shcj8LtP8P1KFyPwu0/w/UoXI/C7T/E9Shcj8LtPylcj8L1KPA/KVyPwvUo8D8pXI/C9SjwPylcj8L1KPA/rkfhehSu7z+uR+F6FK7vP65H4XoUru8/rkfhehSu7z8K16NwPQrvPwrXo3A9Cu8/CtejcD0K7z8K16NwPQrvP3sUrkfhevA/exSuR+F68D97FK5H4XrwP3sUrkfhevA/9ihcj8L18D/2KFyPwvXwP/YoXI/C9fA/9ihcj8L18D9xPQrXo3DxP3E9CtejcPE/cT0K16Nw8T9xPQrXo3DxPxSuR+F6FPI/FK5H4XoU8j8UrkfhehTyPxSuR+F6FPI/FK5H4XoU8j8UrkfhehTyPxSuR+F6FPI/FK5H4XoU8j9xPQrXo3DxP3E9CtejcPE/cT0K16Nw8T9xPQrXo3DxP3E9CtejcPE/cT0K16Nw8T9xPQrXo3DxP3E9CtejcPE/cT0K16Nw8T9xPQrXo3DxP3E9CtejcPE/cT0K16Nw8T9xPQrXo3DxP3E9CtejcPE/cT0K16Nw8T9xPQrXo3DxP3E9CtejcPE/cT0K16Nw8T9xPQrXo3DxP3E9CtejcPE/cT0K16Nw8T9xPQrXo3DxP3E9CtejcPE/cT0K16Nw8T8=",
          "dtype": "f8"
         },
         "yaxis": "y"
        },
        {
         "hovertemplate": "Country=Zimbabwe<br>Year=%{x}<br>Pesticide Use (kg/ha)=%{y}<extra></extra>",
         "legendgroup": "Zimbabwe",
         "line": {
          "color": "#d62728",
          "dash": "solid",
          "width": 2
         },
         "marker": {
          "symbol": "circle"
         },
         "mode": "lines",
         "name": "Zimbabwe",
         "showlegend": true,
         "type": "scattergl",
         "x": {
          "bdata": "xgfGB8YHxgfHB8cHxwfHB8gHyAfIB8gHyQfJB8kHyQfKB8oHygfKB8sHywfLB8sHzAfMB8wHzAfNB80HzQfNB84HzgfOB84HzwfPB88HzwfQB9AH0AfQB9EH0QfRB9EH0gfSB9IH0gfTB9MH0wfTB9QH1AfUB9QH1QfVB9UH1QfWB9YH1gfWB9cH1wfXB9cH2AfYB9gH2AfZB9kH2QfZB9oH2gfaB9oH2wfbB9sH2wfcB9wH3AfcB90H3QfdB90H3gfeB94H3gffB98H3wffB+AH4AfgB+AH4QfhB+EH4QfiB+IH4gfiB+MH4wfjB+MH5AfkB+QH5AflB+UH5QflB+YH5gfmB+YH5wfnB+cH5wc=",
          "dtype": "i2"
         },
         "xaxis": "x",
         "y": {
          "bdata": "FK5H4XoU/j8UrkfhehT+PxSuR+F6FP4/FK5H4XoU/j9xPQrXo3ABQHE9CtejcAFAcT0K16NwAUBxPQrXo3ABQI/C9Shcj/I/j8L1KFyP8j+PwvUoXI/yP4/C9Shcj/I/j8L1KFyP4j+PwvUoXI/iP4/C9Shcj+I/j8L1KFyP4j+kcD0K16PgP6RwPQrXo+A/pHA9Ctej4D+lcD0K16PgP+xRuB6F6+k/7FG4HoXr6T/sUbgehevpP+xRuB6F6+k/AAAAAAAA6D8AAAAAAADoPwAAAAAAAOg/AAAAAAAA6D+PwvUoXI/qP4/C9Shcj+o/j8L1KFyP6j+QwvUoXI/qPylcj8L1KOw/KVyPwvUo7D8pXI/C9SjsPylcj8L1KOw/j8L1KFyP6j+PwvUoXI/qP4/C9Shcj+o/j8L1KFyP6j9I4XoUrkfpP0jhehSuR+k/SOF6FK5H6T9J4XoUrkfpPz0K16NwPeo/PQrXo3A96j89CtejcD3qPz4K16NwPeo/PQrXo3A96j89CtejcD3qPz0K16NwPeo/PQrXo3A96j89CtejcD3qPz0K16NwPeo/PQrXo3A96j89CtejcD3qP5qZmZmZmek/mpmZmZmZ6T+amZmZmZnpP5uZmZmZmek/SOF6FK5H6T9I4XoUrkfpP0jhehSuR+k/SOF6FK5H6T9SuB6F61HoP1K4HoXrUeg/UrgehetR6D9TuB6F61HoP0jhehSuR+k/SOF6FK5H6T9I4XoUrkfpP0jhehSuR+k/AAAAAAAA6D8AAAAAAADoPwAAAAAAAOg/AAAAAAAA6D9I4XoUrkfpP0jhehSuR+k/SOF6FK5H6T9I4XoUrkfpPz0K16NwPeo/PQrXo3A96j89CtejcD3qPz0K16NwPeo/SOF6FK5H6T9I4XoUrkfpP0jhehSuR+k/SOF6FK5H6T+PwvUoXI/qP4/C9Shcj+o/j8L1KFyP6j+QwvUoXI/qP9ejcD0K1+M/16NwPQrX4z/Xo3A9CtfjP9ejcD0K1+M/9ihcj8L14D/2KFyPwvXgP/YoXI/C9eA/9ihcj8L14D9I4XoUrkfhP0jhehSuR+E/SOF6FK5H4T9I4XoUrkfhP0jhehSuR+E/SOF6FK5H4T9I4XoUrkfhP0jhehSuR+E/SOF6FK5H4T9I4XoUrkfhP0jhehSuR+E/SOF6FK5H4T9I4XoUrkfhP0jhehSuR+E/SOF6FK5H4T9I4XoUrkfhP0jhehSuR+E/SOF6FK5H4T9I4XoUrkfhP0jhehSuR+E/SOF6FK5H4T9I4XoUrkfhP0jhehSuR+E/SOF6FK5H4T9I4XoUrkfhP0jhehSuR+E/SOF6FK5H4T9I4XoUrkfhP0jhehSuR+E/SOF6FK5H4T9I4XoUrkfhP0jhehSuR+E/SOF6FK5H4T9I4XoUrkfhP0jhehSuR+E/SOF6FK5H4T8=",
          "dtype": "f8"
         },
         "yaxis": "y"
        }
       ],
       "layout": {
        "height": 500,
        "hovermode": "x unified",
        "legend": {
         "title": {
          "text": "Country"
         },
         "tracegroupgap": 0,
         "x": 0.01,
         "xanchor": "left",
         "y": 0.99,
         "yanchor": "top"
        },
        "showlegend": true,
        "template": {
         "data": {
          "bar": [
           {
            "error_x": {
             "color": "#2a3f5f"
            },
            "error_y": {
             "color": "#2a3f5f"
            },
            "marker": {
             "line": {
              "color": "#E5ECF6",
              "width": 0.5
             },
             "pattern": {
              "fillmode": "overlay",
              "size": 10,
              "solidity": 0.2
             }
            },
            "type": "bar"
           }
          ],
          "barpolar": [
           {
            "marker": {
             "line": {
              "color": "#E5ECF6",
              "width": 0.5
             },
             "pattern": {
              "fillmode": "overlay",
              "size": 10,
              "solidity": 0.2
             }
            },
            "type": "barpolar"
           }
          ],
          "carpet": [
           {
            "aaxis": {
             "endlinecolor": "#2a3f5f",
             "gridcolor": "white",
             "linecolor": "white",
             "minorgridcolor": "white",
             "startlinecolor": "#2a3f5f"
            },
            "baxis": {
             "endlinecolor": "#2a3f5f",
             "gridcolor": "white",
             "linecolor": "white",
             "minorgridcolor": "white",
             "startlinecolor": "#2a3f5f"
            },
            "type": "carpet"
           }
          ],
          "choropleth": [
           {
            "colorbar": {
             "outlinewidth": 0,
             "ticks": ""
            },
            "type": "choropleth"
           }
          ],
          "contour": [
           {
            "colorbar": {
             "outlinewidth": 0,
             "ticks": ""
            },
            "colorscale": [
             [
              0,
              "#0d0887"
             ],
             [
              0.1111111111111111,
              "#46039f"
             ],
             [
              0.2222222222222222,
              "#7201a8"
             ],
             [
              0.3333333333333333,
              "#9c179e"
             ],
             [
              0.4444444444444444,
              "#bd3786"
             ],
             [
              0.5555555555555556,
              "#d8576b"
             ],
             [
              0.6666666666666666,
              "#ed7953"
             ],
             [
              0.7777777777777778,
              "#fb9f3a"
             ],
             [
              0.8888888888888888,
              "#fdca26"
             ],
             [
              1,
              "#f0f921"
             ]
            ],
            "type": "contour"
           }
          ],
          "contourcarpet": [
           {
            "colorbar": {
             "outlinewidth": 0,
             "ticks": ""
            },
            "type": "contourcarpet"
           }
          ],
          "heatmap": [
           {
            "colorbar": {
             "outlinewidth": 0,
             "ticks": ""
            },
            "colorscale": [
             [
              0,
              "#0d0887"
             ],
             [
              0.1111111111111111,
              "#46039f"
             ],
             [
              0.2222222222222222,
              "#7201a8"
             ],
             [
              0.3333333333333333,
              "#9c179e"
             ],
             [
              0.4444444444444444,
              "#bd3786"
             ],
             [
              0.5555555555555556,
              "#d8576b"
             ],
             [
              0.6666666666666666,
              "#ed7953"
             ],
             [
              0.7777777777777778,
              "#fb9f3a"
             ],
             [
              0.8888888888888888,
              "#fdca26"
             ],
             [
              1,
              "#f0f921"
             ]
            ],
            "type": "heatmap"
           }
          ],
          "histogram": [
           {
            "marker": {
             "pattern": {
              "fillmode": "overlay",
              "size": 10,
              "solidity": 0.2
             }
            },
            "type": "histogram"
           }
          ],
          "histogram2d": [
           {
            "colorbar": {
             "outlinewidth": 0,
             "ticks": ""
            },
            "colorscale": [
             [
              0,
              "#0d0887"
             ],
             [
              0.1111111111111111,
              "#46039f"
             ],
             [
              0.2222222222222222,
              "#7201a8"
             ],
             [
              0.3333333333333333,
              "#9c179e"
             ],
             [
              0.4444444444444444,
              "#bd3786"
             ],
             [
              0.5555555555555556,
              "#d8576b"
             ],
             [
              0.6666666666666666,
              "#ed7953"
             ],
             [
              0.7777777777777778,
              "#fb9f3a"
             ],
             [
              0.8888888888888888,
              "#fdca26"
             ],
             [
              1,
              "#f0f921"
             ]
            ],
            "type": "histogram2d"
           }
          ],
          "histogram2dcontour": [
           {
            "colorbar": {
             "outlinewidth": 0,
             "ticks": ""
            },
            "colorscale": [
             [
              0,
              "#0d0887"
             ],
             [
              0.1111111111111111,
              "#46039f"
             ],
             [
              0.2222222222222222,
              "#7201a8"
             ],
             [
              0.3333333333333333,
              "#9c179e"
             ],
             [
              0.4444444444444444,
              "#bd3786"
             ],
             [
              0.5555555555555556,
              "#d8576b"
             ],
             [
              0.6666666666666666,
              "#ed7953"
             ],
             [
              0.7777777777777778,
              "#fb9f3a"
             ],
             [
              0.8888888888888888,
              "#fdca26"
             ],
             [
              1,
              "#f0f921"
             ]
            ],
            "type": "histogram2dcontour"
           }
          ],
          "mesh3d": [
           {
            "colorbar": {
             "outlinewidth": 0,
             "ticks": ""
            },
            "type": "mesh3d"
           }
          ],
          "parcoords": [
           {
            "line": {
             "colorbar": {
              "outlinewidth": 0,
              "ticks": ""
             }
            },
            "type": "parcoords"
           }
          ],
          "pie": [
           {
            "automargin": true,
            "type": "pie"
           }
          ],
          "scatter": [
           {
            "fillpattern": {
             "fillmode": "overlay",
             "size": 10,
             "solidity": 0.2
            },
            "type": "scatter"
           }
          ],
          "scatter3d": [
           {
            "line": {
             "colorbar": {
              "outlinewidth": 0,
              "ticks": ""
             }
            },
            "marker": {
             "colorbar": {
              "outlinewidth": 0,
              "ticks": ""
             }
            },
            "type": "scatter3d"
           }
          ],
          "scattercarpet": [
           {
            "marker": {
             "colorbar": {
              "outlinewidth": 0,
              "ticks": ""
             }
            },
            "type": "scattercarpet"
           }
          ],
          "scattergeo": [
           {
            "marker": {
             "colorbar": {
              "outlinewidth": 0,
              "ticks": ""
             }
            },
            "type": "scattergeo"
           }
          ],
          "scattergl": [
           {
            "marker": {
             "colorbar": {
              "outlinewidth": 0,
              "ticks": ""
             }
            },
            "type": "scattergl"
           }
          ],
          "scattermap": [
           {
            "marker": {
             "colorbar": {
              "outlinewidth": 0,
              "ticks": ""
             }
            },
            "type": "scattermap"
           }
          ],
          "scattermapbox": [
           {
            "marker": {
             "colorbar": {
              "outlinewidth": 0,
              "ticks": ""
             }
            },
            "type": "scattermapbox"
           }
          ],
          "scatterpolar": [
           {
            "marker": {
             "colorbar": {
              "outlinewidth": 0,
              "ticks": ""
             }
            },
            "type": "scatterpolar"
           }
          ],
          "scatterpolargl": [
           {
            "marker": {
             "colorbar": {
              "outlinewidth": 0,
              "ticks": ""
             }
            },
            "type": "scatterpolargl"
           }
          ],
          "scatterternary": [
           {
            "marker": {
             "colorbar": {
              "outlinewidth": 0,
              "ticks": ""
             }
            },
            "type": "scatterternary"
           }
          ],
          "surface": [
           {
            "colorbar": {
             "outlinewidth": 0,
             "ticks": ""
            },
            "colorscale": [
             [
              0,
              "#0d0887"
             ],
             [
              0.1111111111111111,
              "#46039f"
             ],
             [
              0.2222222222222222,
              "#7201a8"
             ],
             [
              0.3333333333333333,
              "#9c179e"
             ],
             [
              0.4444444444444444,
              "#bd3786"
             ],
             [
              0.5555555555555556,
              "#d8576b"
             ],
             [
              0.6666666666666666,
              "#ed7953"
             ],
             [
              0.7777777777777778,
              "#fb9f3a"
             ],
             [
              0.8888888888888888,
              "#fdca26"
             ],
             [
              1,
              "#f0f921"
             ]
            ],
            "type": "surface"
           }
          ],
          "table": [
           {
            "cells": {
             "fill": {
              "color": "#EBF0F8"
             },
             "line": {
              "color": "white"
             }
            },
            "header": {
             "fill": {
              "color": "#C8D4E3"
             },
             "line": {
              "color": "white"
             }
            },
            "type": "table"
           }
          ]
         },
         "layout": {
          "annotationdefaults": {
           "arrowcolor": "#2a3f5f",
           "arrowhead": 0,
           "arrowwidth": 1
          },
          "autotypenumbers": "strict",
          "coloraxis": {
           "colorbar": {
            "outlinewidth": 0,
            "ticks": ""
           }
          },
          "colorscale": {
           "diverging": [
            [
             0,
             "#8e0152"
            ],
            [
             0.1,
             "#c51b7d"
            ],
            [
             0.2,
             "#de77ae"
            ],
            [
             0.3,
             "#f1b6da"
            ],
            [
             0.4,
             "#fde0ef"
            ],
            [
             0.5,
             "#f7f7f7"
            ],
            [
             0.6,
             "#e6f5d0"
            ],
            [
             0.7,
             "#b8e186"
            ],
            [
             0.8,
             "#7fbc41"
            ],
            [
             0.9,
             "#4d9221"
            ],
            [
             1,
             "#276419"
            ]
           ],
           "sequential": [
            [
             0,
             "#0d0887"
            ],
            [
             0.1111111111111111,
             "#46039f"
            ],
            [
             0.2222222222222222,
             "#7201a8"
            ],
            [
             0.3333333333333333,
             "#9c179e"
            ],
            [
             0.4444444444444444,
             "#bd3786"
            ],
            [
             0.5555555555555556,
             "#d8576b"
            ],
            [
             0.6666666666666666,
             "#ed7953"
            ],
            [
             0.7777777777777778,
             "#fb9f3a"
            ],
            [
             0.8888888888888888,
             "#fdca26"
            ],
            [
             1,
             "#f0f921"
            ]
           ],
           "sequentialminus": [
            [
             0,
             "#0d0887"
            ],
            [
             0.1111111111111111,
             "#46039f"
            ],
            [
             0.2222222222222222,
             "#7201a8"
            ],
            [
             0.3333333333333333,
             "#9c179e"
            ],
            [
             0.4444444444444444,
             "#bd3786"
            ],
            [
             0.5555555555555556,
             "#d8576b"
            ],
            [
             0.6666666666666666,
             "#ed7953"
            ],
            [
             0.7777777777777778,
             "#fb9f3a"
            ],
            [
             0.8888888888888888,
             "#fdca26"
            ],
            [
             1,
             "#f0f921"
            ]
           ]
          },
          "colorway": [
           "#636efa",
           "#EF553B",
           "#00cc96",
           "#ab63fa",
           "#FFA15A",
           "#19d3f3",
           "#FF6692",
           "#B6E880",
           "#FF97FF",
           "#FECB52"
          ],
          "font": {
           "color": "#2a3f5f"
          },
          "geo": {
           "bgcolor": "white",
           "lakecolor": "white",
           "landcolor": "#E5ECF6",
           "showlakes": true,
           "showland": true,
           "subunitcolor": "white"
          },
          "hoverlabel": {
           "align": "left"
          },
          "hovermode": "closest",
          "mapbox": {
           "style": "light"
          },
          "paper_bgcolor": "white",
          "plot_bgcolor": "#E5ECF6",
          "polar": {
           "angularaxis": {
            "gridcolor": "white",
            "linecolor": "white",
            "ticks": ""
           },
           "bgcolor": "#E5ECF6",
           "radialaxis": {
            "gridcolor": "white",
            "linecolor": "white",
            "ticks": ""
           }
          },
          "scene": {
           "xaxis": {
            "backgroundcolor": "#E5ECF6",
            "gridcolor": "white",
            "gridwidth": 2,
            "linecolor": "white",
            "showbackground": true,
            "ticks": "",
            "zerolinecolor": "white"
           },
           "yaxis": {
            "backgroundcolor": "#E5ECF6",
            "gridcolor": "white",
            "gridwidth": 2,
            "linecolor": "white",
            "showbackground": true,
            "ticks": "",
            "zerolinecolor": "white"
           },
           "zaxis": {
            "backgroundcolor": "#E5ECF6",
            "gridcolor": "white",
            "gridwidth": 2,
            "linecolor": "white",
            "showbackground": true,
            "ticks": "",
            "zerolinecolor": "white"
           }
          },
          "shapedefaults": {
           "line": {
            "color": "#2a3f5f"
           }
          },
          "ternary": {
           "aaxis": {
            "gridcolor": "white",
            "linecolor": "white",
            "ticks": ""
           },
           "baxis": {
            "gridcolor": "white",
            "linecolor": "white",
            "ticks": ""
           },
           "bgcolor": "#E5ECF6",
           "caxis": {
            "gridcolor": "white",
            "linecolor": "white",
            "ticks": ""
           }
          },
          "title": {
           "x": 0.05
          },
          "xaxis": {
           "automargin": true,
           "gridcolor": "white",
           "linecolor": "white",
           "ticks": "",
           "title": {
            "standoff": 15
           },
           "zerolinecolor": "white",
           "zerolinewidth": 2
          },
          "yaxis": {
           "automargin": true,
           "gridcolor": "white",
           "linecolor": "white",
           "ticks": "",
           "title": {
            "standoff": 15
           },
           "zerolinecolor": "white",
           "zerolinewidth": 2
          }
         }
        },
        "title": {
         "font": {
          "size": 16
         },
         "text": "Pesticide Use Trends in Southern Africa (1990-2023)"
        },
        "xaxis": {
         "anchor": "y",
         "domain": [
          0,
          1
         ],
         "title": {
          "text": "Year"
         }
        },
        "yaxis": {
         "anchor": "x",
         "domain": [
          0,
          1
         ],
         "title": {
          "text": "Pesticide Use (kg/ha)"
         }
        }
       }
      }
     },
     "metadata": {},
     "output_type": "display_data"
    },
    {
     "name": "stdout",
     "output_type": "stream",
     "text": [
      "\n",
      "GROWTH ANALYSIS (1990-2023):\n"
     ]
    },
    {
     "data": {
      "text/html": [
       "<div>\n",
       "<style scoped>\n",
       "    .dataframe tbody tr th:only-of-type {\n",
       "        vertical-align: middle;\n",
       "    }\n",
       "\n",
       "    .dataframe tbody tr th {\n",
       "        vertical-align: top;\n",
       "    }\n",
       "\n",
       "    .dataframe thead th {\n",
       "        text-align: right;\n",
       "    }\n",
       "</style>\n",
       "<table border=\"1\" class=\"dataframe\">\n",
       "  <thead>\n",
       "    <tr style=\"text-align: right;\">\n",
       "      <th></th>\n",
       "      <th>Country</th>\n",
       "      <th>Growth_Rate</th>\n",
       "      <th>1990</th>\n",
       "      <th>2023</th>\n",
       "    </tr>\n",
       "  </thead>\n",
       "  <tbody>\n",
       "    <tr>\n",
       "      <th>2</th>\n",
       "      <td>Lesotho</td>\n",
       "      <td>7550.000000</td>\n",
       "      <td>0.02</td>\n",
       "      <td>1.53</td>\n",
       "    </tr>\n",
       "    <tr>\n",
       "      <th>3</th>\n",
       "      <td>Mozambique</td>\n",
       "      <td>1700.000000</td>\n",
       "      <td>0.03</td>\n",
       "      <td>0.54</td>\n",
       "    </tr>\n",
       "    <tr>\n",
       "      <th>4</th>\n",
       "      <td>Malawi</td>\n",
       "      <td>585.714286</td>\n",
       "      <td>0.07</td>\n",
       "      <td>0.48</td>\n",
       "    </tr>\n",
       "    <tr>\n",
       "      <th>1</th>\n",
       "      <td>Botswana</td>\n",
       "      <td>484.337349</td>\n",
       "      <td>0.83</td>\n",
       "      <td>4.85</td>\n",
       "    </tr>\n",
       "    <tr>\n",
       "      <th>8</th>\n",
       "      <td>Zambia</td>\n",
       "      <td>194.594595</td>\n",
       "      <td>0.37</td>\n",
       "      <td>1.09</td>\n",
       "    </tr>\n",
       "    <tr>\n",
       "      <th>7</th>\n",
       "      <td>South Africa</td>\n",
       "      <td>166.929134</td>\n",
       "      <td>1.27</td>\n",
       "      <td>3.39</td>\n",
       "    </tr>\n",
       "    <tr>\n",
       "      <th>5</th>\n",
       "      <td>Namibia</td>\n",
       "      <td>67.816092</td>\n",
       "      <td>0.87</td>\n",
       "      <td>1.46</td>\n",
       "    </tr>\n",
       "    <tr>\n",
       "      <th>6</th>\n",
       "      <td>Eswatini</td>\n",
       "      <td>60.880829</td>\n",
       "      <td>3.86</td>\n",
       "      <td>6.21</td>\n",
       "    </tr>\n",
       "    <tr>\n",
       "      <th>0</th>\n",
       "      <td>Angola</td>\n",
       "      <td>-50.000000</td>\n",
       "      <td>0.02</td>\n",
       "      <td>0.01</td>\n",
       "    </tr>\n",
       "    <tr>\n",
       "      <th>9</th>\n",
       "      <td>Zimbabwe</td>\n",
       "      <td>-71.276596</td>\n",
       "      <td>1.88</td>\n",
       "      <td>0.54</td>\n",
       "    </tr>\n",
       "  </tbody>\n",
       "</table>\n",
       "</div>"
      ],
      "text/plain": [
       "        Country  Growth_Rate  1990  2023\n",
       "2       Lesotho  7550.000000  0.02  1.53\n",
       "3    Mozambique  1700.000000  0.03  0.54\n",
       "4        Malawi   585.714286  0.07  0.48\n",
       "1      Botswana   484.337349  0.83  4.85\n",
       "8        Zambia   194.594595  0.37  1.09\n",
       "7  South Africa   166.929134  1.27  3.39\n",
       "5       Namibia    67.816092  0.87  1.46\n",
       "6      Eswatini    60.880829  3.86  6.21\n",
       "0        Angola   -50.000000  0.02  0.01\n",
       "9      Zimbabwe   -71.276596  1.88  0.54"
      ]
     },
     "execution_count": 13,
     "metadata": {},
     "output_type": "execute_result"
    }
   ],
   "source": [
    "# Create interactive time series plot showing trends for all countries\n",
    "fig = px.line(pesticide_uses,\n",
    "              x='Year',\n",
    "              y='Kg_per_ha',\n",
    "              color='Country',\n",
    "              title='Pesticide Use Trends in Southern Africa (1990-2023)',\n",
    "              labels={'Kg_per_ha': 'Pesticide Use (kg/ha)',\n",
    "                      'Year': 'Year'},\n",
    "              color_discrete_map=country_colors,\n",
    "              height=500)\n",
    "\n",
    "fig.update_layout(\n",
    "    hovermode='x unified',\n",
    "    legend=dict(\n",
    "        yanchor=\"top\",\n",
    "        y=0.99,\n",
    "        xanchor=\"left\",\n",
    "        x=0.01\n",
    "    ),\n",
    "    title_font_size=16,\n",
    "    showlegend=True\n",
    ")\n",
    "\n",
    "fig.update_traces(line=dict(width=2))\n",
    "fig.show()\n",
    "\n",
    "# Calculate growth rates\n",
    "growth_rates = []\n",
    "for country in pesticide_uses['Country'].unique():\n",
    "    country_data = pesticide_uses[pesticide_uses['Country'] == country]\n",
    "    start_value = country_data[country_data['Year'] == 1990]['Kg_per_ha'].values[0]\n",
    "    end_value = country_data[country_data['Year'] == 2023]['Kg_per_ha'].values[0]\n",
    "    growth_rate = ((end_value - start_value) / start_value) * 100\n",
    "    growth_rates.append({'Country': country, 'Growth_Rate': growth_rate,\n",
    "                        '1990': start_value, '2023': end_value})\n",
    "\n",
    "growth_df = pd.DataFrame(growth_rates).sort_values('Growth_Rate', ascending=False)\n",
    "print(\"\\nGROWTH ANALYSIS (1990-2023):\")\n",
    "growth_df"
   ]
  },
  {
   "cell_type": "markdown",
   "id": "e902e2b4-7663-4fa2-a0d4-99e000354ff7",
   "metadata": {},
   "source": [
    "## Pesticide Types Breakdown"
   ]
  },
  {
   "cell_type": "code",
   "execution_count": 14,
   "id": "22b04798-7f45-4747-a9c6-2263ad771da1",
   "metadata": {},
   "outputs": [
    {
     "data": {
      "image/png": "[encoded data removed]",
      "text/plain": [
       "<Figure size 1600x600 with 2 Axes>"
      ]
     },
     "metadata": {},
     "output_type": "display_data"
    },
    {
     "name": "stdout",
     "output_type": "stream",
     "text": [
      "\n",
      "PESTICIDE TYPES BREAKDOWN:\n",
      "Total use by type (tonnes):\n",
      "  • Fungicides and Bactericides: 408,538 tonnes (33.7%)\n",
      "  • Herbicides: 467,889 tonnes (38.6%)\n",
      "  • Insecticides: 334,342 tonnes (27.6%)\n"
     ]
    }
   ],
   "source": [
    "# Analyze pesticide types distribution\n",
    "# Removed 'Pesticides (total)' to avoid double counting\n",
    "pesticide_types = pesticide_uses[pesticide_uses['Pesticide_Type'] != 'Pesticides (total)'].copy()\n",
    "\n",
    "# Calculate average use by type and country\n",
    "type_summary = pesticide_types.groupby(['Country', 'Pesticide_Type'])['Tonnes'].mean().reset_index()\n",
    "type_pivot = type_summary.pivot(index='Country', columns='Pesticide_Type', values='Tonnes').fillna(0)\n",
    "\n",
    "# Create stacked bar chart\n",
    "fig, (ax1, ax2) = plt.subplots(1, 2, figsize=(16, 6))\n",
    "\n",
    "# Stacked bar chart\n",
    "type_pivot.plot(kind='bar', stacked=True, ax=ax1,\n",
    "                color=['#FF6B6B', '#4ECDC4', '#2FB636'])\n",
    "ax1.set_xlabel('Country')\n",
    "ax1.set_ylabel('Average Pesticide Use (tonnes)')\n",
    "ax1.set_title('Average Pesticide Use by Type (1990-2023)', fontweight='bold')\n",
    "ax1.legend(title='Pesticide Type', bbox_to_anchor=(1.05, 1), loc='upper left')\n",
    "ax1.grid(axis='y', alpha=0.3)\n",
    "plt.setp(ax1.xaxis.get_majorticklabels(), rotation=45, ha='right')\n",
    "\n",
    "# Percentage composition\n",
    "type_pivot_pct = type_pivot.div(type_pivot.sum(axis=1), axis=0) * 100\n",
    "type_pivot_pct.plot(kind='bar', stacked=True, ax=ax2,\n",
    "                    color=['#FF6B6B', '#4ECDC4', \"#2FB636\"])\n",
    "ax2.set_xlabel('Country')\n",
    "ax2.set_ylabel('Percentage (%)')\n",
    "ax2.set_title('Pesticide Type Composition by Country', fontweight='bold')\n",
    "ax2.legend(title='Pesticide Type', bbox_to_anchor=(1.05, 1), loc='upper left')\n",
    "ax2.grid(axis='y', alpha=0.3)\n",
    "plt.setp(ax2.xaxis.get_majorticklabels(), rotation=45, ha='right')\n",
    "\n",
    "plt.suptitle('Pesticide Types Analysis in Southern Africa',\n",
    "             fontsize=16, fontweight='bold', y=1.02)\n",
    "plt.tight_layout()\n",
    "plt.show()\n",
    "\n",
    "# Print summary statistics\n",
    "print(\"\\nPESTICIDE TYPES BREAKDOWN:\")\n",
    "total_by_type = pesticide_types.groupby('Pesticide_Type')['Tonnes'].sum()\n",
    "print(f\"Total use by type (tonnes):\")\n",
    "for ptype, value in total_by_type.items():\n",
    "    pct = (value / total_by_type.sum()) * 100\n",
    "    print(f\"  • {ptype}: {value:,.0f} tonnes ({pct:.1f}%)\")"
   ]
  },
  {
   "cell_type": "code",
   "execution_count": 15,
   "id": "6d0a75af",
   "metadata": {},
   "outputs": [
    {
     "name": "stdout",
     "output_type": "stream",
     "text": [
      "South Africa grouped pesticide usage (1990–2023):\n"
     ]
    },
    {
     "data": {
      "text/html": [
       "<div>\n",
       "<style scoped>\n",
       "    .dataframe tbody tr th:only-of-type {\n",
       "        vertical-align: middle;\n",
       "    }\n",
       "\n",
       "    .dataframe tbody tr th {\n",
       "        vertical-align: top;\n",
       "    }\n",
       "\n",
       "    .dataframe thead th {\n",
       "        text-align: right;\n",
       "    }\n",
       "</style>\n",
       "<table border=\"1\" class=\"dataframe\">\n",
       "  <thead>\n",
       "    <tr style=\"text-align: right;\">\n",
       "      <th></th>\n",
       "      <th>Pesticide_Type</th>\n",
       "      <th>Tonnes</th>\n",
       "    </tr>\n",
       "  </thead>\n",
       "  <tbody>\n",
       "    <tr>\n",
       "      <th>0</th>\n",
       "      <td>Herbicides</td>\n",
       "      <td>374056.0</td>\n",
       "    </tr>\n",
       "    <tr>\n",
       "      <th>1</th>\n",
       "      <td>Fungicides and Bactericides</td>\n",
       "      <td>324056.0</td>\n",
       "    </tr>\n",
       "    <tr>\n",
       "      <th>2</th>\n",
       "      <td>Insecticides</td>\n",
       "      <td>236226.0</td>\n",
       "    </tr>\n",
       "  </tbody>\n",
       "</table>\n",
       "</div>"
      ],
      "text/plain": [
       "                Pesticide_Type    Tonnes\n",
       "0                   Herbicides  374056.0\n",
       "1  Fungicides and Bactericides  324056.0\n",
       "2                 Insecticides  236226.0"
      ]
     },
     "metadata": {},
     "output_type": "display_data"
    },
    {
     "name": "stdout",
     "output_type": "stream",
     "text": [
      "All countries grouped pesticide usage (1990–2023):\n"
     ]
    },
    {
     "data": {
      "text/html": [
       "<div>\n",
       "<style scoped>\n",
       "    .dataframe tbody tr th:only-of-type {\n",
       "        vertical-align: middle;\n",
       "    }\n",
       "\n",
       "    .dataframe tbody tr th {\n",
       "        vertical-align: top;\n",
       "    }\n",
       "\n",
       "    .dataframe thead th {\n",
       "        text-align: right;\n",
       "    }\n",
       "</style>\n",
       "<table border=\"1\" class=\"dataframe\">\n",
       "  <thead>\n",
       "    <tr style=\"text-align: right;\">\n",
       "      <th></th>\n",
       "      <th>Pesticide_Type</th>\n",
       "      <th>Tonnes</th>\n",
       "    </tr>\n",
       "  </thead>\n",
       "  <tbody>\n",
       "    <tr>\n",
       "      <th>0</th>\n",
       "      <td>Herbicides</td>\n",
       "      <td>467889.0</td>\n",
       "    </tr>\n",
       "    <tr>\n",
       "      <th>1</th>\n",
       "      <td>Fungicides and Bactericides</td>\n",
       "      <td>408538.0</td>\n",
       "    </tr>\n",
       "    <tr>\n",
       "      <th>2</th>\n",
       "      <td>Insecticides</td>\n",
       "      <td>334342.0</td>\n",
       "    </tr>\n",
       "  </tbody>\n",
       "</table>\n",
       "</div>"
      ],
      "text/plain": [
       "                Pesticide_Type    Tonnes\n",
       "0                   Herbicides  467889.0\n",
       "1  Fungicides and Bactericides  408538.0\n",
       "2                 Insecticides  334342.0"
      ]
     },
     "metadata": {},
     "output_type": "display_data"
    },
    {
     "data": {
      "image/png": "[encoded data removed]",
      "text/plain": [
       "<Figure size 1800x900 with 2 Axes>"
      ]
     },
     "metadata": {},
     "output_type": "display_data"
    }
   ],
   "source": [
    "# Excluded \"Pesticides (total)\"\n",
    "df_filtered = merged_df[merged_df[\"Pesticide_Type\"] != \"Pesticides (total)\"]\n",
    "\n",
    "# South Africa Data\n",
    "sa_df = df_filtered[df_filtered[\"Country\"] == \"South Africa\"]\n",
    "sa_grouped = sa_df.groupby(\"Pesticide_Type\")[\"Tonnes\"].sum().reset_index()\n",
    "sa_grouped = sa_grouped.sort_values(by=\"Tonnes\", ascending=False).reset_index(drop=True)\n",
    "\n",
    "print(\"South Africa grouped pesticide usage (1990–2023):\")\n",
    "display(sa_grouped)\n",
    "\n",
    "# Global Data\n",
    "grouped_all = df_filtered.groupby(\"Pesticide_Type\")[\"Tonnes\"].sum().reset_index()\n",
    "grouped_all = grouped_all.sort_values(by=\"Tonnes\", ascending=False).reset_index(drop=True)\n",
    "\n",
    "print(\"All countries grouped pesticide usage (1990–2023):\")\n",
    "display(grouped_all)\n",
    "\n",
    "# Side-by-side Pie Charts\n",
    "fig, axes = plt.subplots(1, 2, figsize=(18, 9))  # slightly wider figure\n",
    "\n",
    "# Explode arrays\n",
    "explode_sa = [0.06] + [0]*(len(sa_grouped)-1)\n",
    "explode_all = [0.06] + [0]*(len(grouped_all)-1)\n",
    "\n",
    "# South Africa pie chart\n",
    "axes[0].pie(\n",
    "    sa_grouped[\"Tonnes\"],\n",
    "    labels=sa_grouped[\"Pesticide_Type\"],\n",
    "    autopct='%1.1f%%',\n",
    "    startangle=140,\n",
    "    colors=plt.cm.Set2.colors,\n",
    "    explode=explode_sa,\n",
    "    shadow=True,\n",
    "    textprops={'fontsize': 14}\n",
    ")\n",
    "axes[0].set_title(\"South Africa: Pesticide Usage (1990–2023)\", fontsize=16, pad=20)\n",
    "\n",
    "# Global pie chart\n",
    "axes[1].pie(\n",
    "    grouped_all[\"Tonnes\"],\n",
    "    labels=grouped_all[\"Pesticide_Type\"],\n",
    "    autopct='%1.1f%%',\n",
    "    startangle=140,\n",
    "    colors=plt.cm.Set2.colors,\n",
    "    explode=explode_all,\n",
    "    shadow=True,\n",
    "    textprops={'fontsize': 14}\n",
    ")\n",
    "axes[1].set_title(\"Global Pesticide Usage (1990–2023)\", fontsize=16, pad=20)\n",
    "\n",
    "# Adjust layout for better separation\n",
    "plt.subplots_adjust(wspace=0.4)  # increase horizontal space between charts\n",
    "\n",
    "plt.show()\n",
    "\n"
   ]
  },
  {
   "cell_type": "markdown",
   "id": "9c860321-339e-4c56-9127-14a78715fd88",
   "metadata": {},
   "source": [
    "## South Africa Regional Leadership Analysis"
   ]
  },
  {
   "cell_type": "code",
   "execution_count": 16,
   "id": "2330439a-42ee-4877-b498-26b7218abe93",
   "metadata": {},
   "outputs": [
    {
     "data": {
      "image/png": "[encoded data removed]",
      "text/plain": [
       "<Figure size 1600x1000 with 4 Axes>"
      ]
     },
     "metadata": {},
     "output_type": "display_data"
    },
    {
     "name": "stdout",
     "output_type": "stream",
     "text": [
      "\n",
      "🇿🇦 SOUTH AFRICA KEY METRICS:\n",
      "• Current use (2023): 3.39 kg/ha\n",
      "• Average annual growth: 0.76%\n",
      "• Peak year: 2021\n",
      "• Peak value: 3.43 kg/ha\n"
     ]
    }
   ],
   "source": [
    "# Focus on South Africa as the regional leader\n",
    "sa_data = pesticide_uses[pesticide_uses['Country'] == 'South Africa'].copy()\n",
    "regional_avg = pesticide_uses.groupby('Year')['Kg_per_ha'].mean().reset_index()\n",
    "regional_avg['Country'] = 'Regional Average'\n",
    "\n",
    "# Combine for comparison\n",
    "comparison_data = pd.concat([sa_data, regional_avg], ignore_index=True)\n",
    "\n",
    "# Create comparison visualization\n",
    "fig, axes = plt.subplots(2, 2, figsize=(16, 10))\n",
    "\n",
    "# 1. South Africa vs Regional Average\n",
    "ax1 = axes[0, 0]\n",
    "for country in comparison_data['Country'].unique():\n",
    "    data = comparison_data[comparison_data['Country'] == country]\n",
    "    style = '-' if country == 'South Africa' else '--'\n",
    "    width = 2.5 if country == 'South Africa' else 1.5\n",
    "    ax1.plot(data['Year'], data['Kg_per_ha'],\n",
    "             label=country, linestyle=style, linewidth=width)\n",
    "\n",
    "ax1.set_xlabel('Year')\n",
    "ax1.set_ylabel('Pesticide Use (kg/ha)')\n",
    "ax1.set_title('South Africa vs Regional Average', fontweight='bold')\n",
    "ax1.legend()\n",
    "ax1.grid(alpha=0.3)\n",
    "\n",
    "# 2. Year-over-year change for South Africa\n",
    "ax2 = axes[0, 1]\n",
    "sa_data_sorted = sa_data.sort_values('Year')\n",
    "sa_data_sorted['YoY_Change'] = sa_data_sorted['Kg_per_ha'].pct_change() * 100\n",
    "ax2.bar(sa_data_sorted['Year'].iloc[1:], sa_data_sorted['YoY_Change'].iloc[1:],\n",
    "        color=['green' if x > 0 else 'red' for x in sa_data_sorted['YoY_Change'].iloc[1:]])\n",
    "ax2.set_xlabel('Year')\n",
    "ax2.set_ylabel('Year-over-Year Change (%)')\n",
    "ax2.set_title('South Africa: Annual Growth Rate', fontweight='bold')\n",
    "ax2.axhline(y=0, color='black', linestyle='-', linewidth=0.5)\n",
    "ax2.grid(axis='y', alpha=0.3)\n",
    "\n",
    "# 3. South Africa's pesticide types over time\n",
    "ax3 = axes[1, 0]\n",
    "sa_types = merged_df[\n",
    "    (merged_df['Country'] == 'South Africa') &\n",
    "    (merged_df['Pesticide_Type'] != 'Pesticides (total)')\n",
    "]\n",
    "for ptype in sa_types['Pesticide_Type'].unique():\n",
    "    type_data = sa_types[sa_types['Pesticide_Type'] == ptype]\n",
    "    ax3.plot(type_data['Year'], type_data['Tonnes'],\n",
    "             label=ptype, marker='o', markersize=3)\n",
    "\n",
    "ax3.set_xlabel('Year')\n",
    "ax3.set_ylabel('Pesticide Use (tonnes)')\n",
    "ax3.set_title('South Africa: Pesticide Types Evolution', fontweight='bold')\n",
    "ax3.legend()\n",
    "ax3.grid(alpha=0.3)\n",
    "\n",
    "# 4. Comparison with neighboring countries (latest 5 years)\n",
    "ax4 = axes[1, 1]\n",
    "recent_years = merged_df[merged_df['Year'] >= 2019]\n",
    "recent_avg = recent_years.groupby('Country')['Kg_per_ha'].mean().sort_values()\n",
    "colors_bar = ['#FF6B6B' if c == 'South Africa' else '#4ECDC4' for c in recent_avg.index]\n",
    "bars = ax4.barh(recent_avg.index, recent_avg.values, color=colors_bar)\n",
    "ax4.set_xlabel('Average Pesticide Use (kg/ha)')\n",
    "ax4.set_title('Recent Performance (2019-2023)', fontweight='bold')\n",
    "ax4.grid(axis='x', alpha=0.3)\n",
    "\n",
    "for i, (country, value) in enumerate(recent_avg.items()):\n",
    "    ax4.text(value + 0.05, i, f'{value:.2f}', va='center')\n",
    "\n",
    "plt.suptitle('🇿🇦 South Africa: Regional Leader in Agricultural Intensification',\n",
    "             fontsize=16, fontweight='bold', y=1.02)\n",
    "plt.tight_layout()\n",
    "plt.show()\n",
    "\n",
    "# Key statistics for South Africa\n",
    "print(\"\\n🇿🇦 SOUTH AFRICA KEY METRICS:\")\n",
    "sa_2023 = sa_data[sa_data['Year'] == 2023]['Kg_per_ha'].values\n",
    "print(f\"• Current use (2023): {sa_2023[0] if len(sa_2023) > 0 else 'N/A':.2f} kg/ha\")\n",
    "print(f\"• Average annual growth: {sa_data_sorted['YoY_Change'].mean():.2f}%\")\n",
    "print(f\"• Peak year: {sa_data.loc[sa_data['Kg_per_ha'].idxmax(), 'Year']:.0f}\")\n",
    "print(f\"• Peak value: {sa_data['Kg_per_ha'].max():.2f} kg/ha\")"
   ]
  },
  {
   "cell_type": "markdown",
   "id": "320b9cc9-e386-4400-b69c-e4bb79f7666b",
   "metadata": {},
   "source": [
    "## 8. Database Integration"
   ]
  },
  {
   "cell_type": "code",
   "execution_count": null,
   "id": "f343e7bd",
   "metadata": {},
   "outputs": [
    {
     "name": "stdout",
     "output_type": "stream",
     "text": [
      "Transaction started.\n",
      "Correlation between Tonnes and Kg_per_ha: 0.324\n",
      "Found 78 potential outliers in Kg_per_ha relative to Tonnes.\n",
      "Transaction committed successfully. All changes applied.\n"
     ]
    },
    {
     "data": {
      "text/html": [
       "<div>\n",
       "<style scoped>\n",
       "    .dataframe tbody tr th:only-of-type {\n",
       "        vertical-align: middle;\n",
       "    }\n",
       "\n",
       "    .dataframe tbody tr th {\n",
       "        vertical-align: top;\n",
       "    }\n",
       "\n",
       "    .dataframe thead th {\n",
       "        text-align: right;\n",
       "    }\n",
       "</style>\n",
       "<table border=\"1\" class=\"dataframe\">\n",
       "  <thead>\n",
       "    <tr style=\"text-align: right;\">\n",
       "      <th></th>\n",
       "      <th>Country</th>\n",
       "      <th>Indicator_x</th>\n",
       "      <th>Unit_Measure(T)</th>\n",
       "      <th>Pesticide_Type</th>\n",
       "      <th>Year</th>\n",
       "      <th>Tonnes</th>\n",
       "      <th>Indicator_y</th>\n",
       "      <th>Unit_Measure(kg/ha)</th>\n",
       "      <th>Kg_per_ha</th>\n",
       "    </tr>\n",
       "  </thead>\n",
       "  <tbody>\n",
       "    <tr>\n",
       "      <th>0</th>\n",
       "      <td>Angola</td>\n",
       "      <td>Pesticides Agricultural Use</td>\n",
       "      <td>Tonnes</td>\n",
       "      <td>Insecticides</td>\n",
       "      <td>1990</td>\n",
       "      <td>56.00</td>\n",
       "      <td>Pesticides Use per area of cropland</td>\n",
       "      <td>Kilogram per hectare</td>\n",
       "      <td>0.02</td>\n",
       "    </tr>\n",
       "    <tr>\n",
       "      <th>1</th>\n",
       "      <td>Angola</td>\n",
       "      <td>Pesticides Agricultural Use</td>\n",
       "      <td>Tonnes</td>\n",
       "      <td>Herbicides</td>\n",
       "      <td>1990</td>\n",
       "      <td>0.00</td>\n",
       "      <td>Pesticides Use per area of cropland</td>\n",
       "      <td>Kilogram per hectare</td>\n",
       "      <td>0.02</td>\n",
       "    </tr>\n",
       "    <tr>\n",
       "      <th>2</th>\n",
       "      <td>Angola</td>\n",
       "      <td>Pesticides Agricultural Use</td>\n",
       "      <td>Tonnes</td>\n",
       "      <td>Fungicides and Bactericides</td>\n",
       "      <td>1990</td>\n",
       "      <td>5.00</td>\n",
       "      <td>Pesticides Use per area of cropland</td>\n",
       "      <td>Kilogram per hectare</td>\n",
       "      <td>0.02</td>\n",
       "    </tr>\n",
       "    <tr>\n",
       "      <th>4</th>\n",
       "      <td>Botswana</td>\n",
       "      <td>Pesticides Agricultural Use</td>\n",
       "      <td>Tonnes</td>\n",
       "      <td>Insecticides</td>\n",
       "      <td>1990</td>\n",
       "      <td>272.00</td>\n",
       "      <td>Pesticides Use per area of cropland</td>\n",
       "      <td>Kilogram per hectare</td>\n",
       "      <td>0.83</td>\n",
       "    </tr>\n",
       "    <tr>\n",
       "      <th>5</th>\n",
       "      <td>Botswana</td>\n",
       "      <td>Pesticides Agricultural Use</td>\n",
       "      <td>Tonnes</td>\n",
       "      <td>Herbicides</td>\n",
       "      <td>1990</td>\n",
       "      <td>52.00</td>\n",
       "      <td>Pesticides Use per area of cropland</td>\n",
       "      <td>Kilogram per hectare</td>\n",
       "      <td>0.83</td>\n",
       "    </tr>\n",
       "  </tbody>\n",
       "</table>\n",
       "</div>"
      ],
      "text/plain": [
       "    Country                  Indicator_x Unit_Measure(T)  \\\n",
       "0    Angola  Pesticides Agricultural Use          Tonnes   \n",
       "1    Angola  Pesticides Agricultural Use          Tonnes   \n",
       "2    Angola  Pesticides Agricultural Use          Tonnes   \n",
       "4  Botswana  Pesticides Agricultural Use          Tonnes   \n",
       "5  Botswana  Pesticides Agricultural Use          Tonnes   \n",
       "\n",
       "                Pesticide_Type  Year  Tonnes  \\\n",
       "0                 Insecticides  1990   56.00   \n",
       "1                   Herbicides  1990    0.00   \n",
       "2  Fungicides and Bactericides  1990    5.00   \n",
       "4                 Insecticides  1990  272.00   \n",
       "5                   Herbicides  1990   52.00   \n",
       "\n",
       "                           Indicator_y   Unit_Measure(kg/ha)  Kg_per_ha  \n",
       "0  Pesticides Use per area of cropland  Kilogram per hectare       0.02  \n",
       "1  Pesticides Use per area of cropland  Kilogram per hectare       0.02  \n",
       "2  Pesticides Use per area of cropland  Kilogram per hectare       0.02  \n",
       "4  Pesticides Use per area of cropland  Kilogram per hectare       0.83  \n",
       "5  Pesticides Use per area of cropland  Kilogram per hectare       0.83  "
      ]
     },
     "metadata": {},
     "output_type": "display_data"
    },
    {
     "name": "stdout",
     "output_type": "stream",
     "text": [
      "\n",
      "Outliers detected:\n"
     ]
    },
    {
     "data": {
      "text/html": [
       "<div>\n",
       "<style scoped>\n",
       "    .dataframe tbody tr th:only-of-type {\n",
       "        vertical-align: middle;\n",
       "    }\n",
       "\n",
       "    .dataframe tbody tr th {\n",
       "        vertical-align: top;\n",
       "    }\n",
       "\n",
       "    .dataframe thead th {\n",
       "        text-align: right;\n",
       "    }\n",
       "</style>\n",
       "<table border=\"1\" class=\"dataframe\">\n",
       "  <thead>\n",
       "    <tr style=\"text-align: right;\">\n",
       "      <th></th>\n",
       "      <th>Country</th>\n",
       "      <th>Indicator_x</th>\n",
       "      <th>Unit_Measure(T)</th>\n",
       "      <th>Pesticide_Type</th>\n",
       "      <th>Year</th>\n",
       "      <th>Tonnes</th>\n",
       "      <th>Indicator_y</th>\n",
       "      <th>Unit_Measure(kg/ha)</th>\n",
       "      <th>Kg_per_ha</th>\n",
       "    </tr>\n",
       "  </thead>\n",
       "  <tbody>\n",
       "    <tr>\n",
       "      <th>24</th>\n",
       "      <td>Eswatini</td>\n",
       "      <td>Pesticides Agricultural Use</td>\n",
       "      <td>Tonnes</td>\n",
       "      <td>Insecticides</td>\n",
       "      <td>1990</td>\n",
       "      <td>268.00</td>\n",
       "      <td>Pesticides Use per area of cropland</td>\n",
       "      <td>Kilogram per hectare</td>\n",
       "      <td>3.86</td>\n",
       "    </tr>\n",
       "    <tr>\n",
       "      <th>25</th>\n",
       "      <td>Eswatini</td>\n",
       "      <td>Pesticides Agricultural Use</td>\n",
       "      <td>Tonnes</td>\n",
       "      <td>Herbicides</td>\n",
       "      <td>1990</td>\n",
       "      <td>162.00</td>\n",
       "      <td>Pesticides Use per area of cropland</td>\n",
       "      <td>Kilogram per hectare</td>\n",
       "      <td>3.86</td>\n",
       "    </tr>\n",
       "    <tr>\n",
       "      <th>26</th>\n",
       "      <td>Eswatini</td>\n",
       "      <td>Pesticides Agricultural Use</td>\n",
       "      <td>Tonnes</td>\n",
       "      <td>Fungicides and Bactericides</td>\n",
       "      <td>1990</td>\n",
       "      <td>214.00</td>\n",
       "      <td>Pesticides Use per area of cropland</td>\n",
       "      <td>Kilogram per hectare</td>\n",
       "      <td>3.86</td>\n",
       "    </tr>\n",
       "    <tr>\n",
       "      <th>64</th>\n",
       "      <td>Eswatini</td>\n",
       "      <td>Pesticides Agricultural Use</td>\n",
       "      <td>Tonnes</td>\n",
       "      <td>Insecticides</td>\n",
       "      <td>1991</td>\n",
       "      <td>272.00</td>\n",
       "      <td>Pesticides Use per area of cropland</td>\n",
       "      <td>Kilogram per hectare</td>\n",
       "      <td>3.80</td>\n",
       "    </tr>\n",
       "    <tr>\n",
       "      <th>65</th>\n",
       "      <td>Eswatini</td>\n",
       "      <td>Pesticides Agricultural Use</td>\n",
       "      <td>Tonnes</td>\n",
       "      <td>Herbicides</td>\n",
       "      <td>1991</td>\n",
       "      <td>164.00</td>\n",
       "      <td>Pesticides Use per area of cropland</td>\n",
       "      <td>Kilogram per hectare</td>\n",
       "      <td>3.80</td>\n",
       "    </tr>\n",
       "  </tbody>\n",
       "</table>\n",
       "</div>"
      ],
      "text/plain": [
       "     Country                  Indicator_x Unit_Measure(T)  \\\n",
       "24  Eswatini  Pesticides Agricultural Use          Tonnes   \n",
       "25  Eswatini  Pesticides Agricultural Use          Tonnes   \n",
       "26  Eswatini  Pesticides Agricultural Use          Tonnes   \n",
       "64  Eswatini  Pesticides Agricultural Use          Tonnes   \n",
       "65  Eswatini  Pesticides Agricultural Use          Tonnes   \n",
       "\n",
       "                 Pesticide_Type  Year  Tonnes  \\\n",
       "24                 Insecticides  1990  268.00   \n",
       "25                   Herbicides  1990  162.00   \n",
       "26  Fungicides and Bactericides  1990  214.00   \n",
       "64                 Insecticides  1991  272.00   \n",
       "65                   Herbicides  1991  164.00   \n",
       "\n",
       "                            Indicator_y   Unit_Measure(kg/ha)  Kg_per_ha  \n",
       "24  Pesticides Use per area of cropland  Kilogram per hectare       3.86  \n",
       "25  Pesticides Use per area of cropland  Kilogram per hectare       3.86  \n",
       "26  Pesticides Use per area of cropland  Kilogram per hectare       3.86  \n",
       "64  Pesticides Use per area of cropland  Kilogram per hectare       3.80  \n",
       "65  Pesticides Use per area of cropland  Kilogram per hectare       3.80  "
      ]
     },
     "metadata": {},
     "output_type": "display_data"
    }
   ],
   "source": [
    "# Make pandas display readable numbers\n",
    "pd.set_option(\"display.float_format\", \"{:,.2f}\".format)\n",
    "\n",
    "try:\n",
    "    # Connect to DB with default isolation_level (transaction managed by conn.commit())\n",
    "    conn = sqlite3.connect(\"Pesticide_Uses_ZA.db\")\n",
    "    cursor = conn.cursor()\n",
    "\n",
    "    # Load dataset\n",
    "    df = pd.read_sql_query(\"SELECT * FROM Pesticide_Uses;\", conn)\n",
    "\n",
    "    # Start transaction\n",
    "    # All changes will be part of this transaction until conn.commit() or conn.rollback()\n",
    "    print(\"Transaction started.\")\n",
    "\n",
    "    # Delete 'Pesticides (total)' rows\n",
    "    cursor.execute(\"\"\"\n",
    "        DELETE FROM Pesticide_Uses\n",
    "        WHERE Pesticide_Type = 'Pesticides (total)';\n",
    "    \"\"\")\n",
    "    df = df[df['Pesticide_Type'] != 'Pesticides (total)'].copy()\n",
    "\n",
    "    # Correlation analysis (Tonnes vs Kg_per_ha)\n",
    "    corr_value = df[\"Tonnes\"].corr(df[\"Kg_per_ha\"])\n",
    "    print(f\"Correlation between Tonnes and Kg_per_ha: {corr_value:.3f}\")\n",
    "\n",
    "    # Outlier detection (IQR)\n",
    "    Q1 = df[\"Kg_per_ha\"].quantile(0.25)\n",
    "    Q3 = df[\"Kg_per_ha\"].quantile(0.75)\n",
    "    IQR = Q3 - Q1\n",
    "    outliers = df[\n",
    "        (df[\"Kg_per_ha\"] < (Q1 - 1.5 * IQR)) |\n",
    "        (df[\"Kg_per_ha\"] > (Q3 + 1.5 * IQR))\n",
    "    ]\n",
    "    print(f\"Found {len(outliers)} potential outliers in Kg_per_ha relative to Tonnes.\")\n",
    "\n",
    "    # Save analytics results back to DB\n",
    "    pd.DataFrame(\n",
    "        {\"Metric\": [\"Tonnes_vs_Kg_per_ha_Correlation\"], \"Value\": [corr_value]}\n",
    "    ).to_sql(\"Analytics_Summary\", conn, if_exists=\"replace\", index=False)\n",
    "\n",
    "    outliers.to_sql(\"Outliers_Detected\", conn, if_exists=\"replace\", index=False)\n",
    "\n",
    "    # Commit transaction\n",
    "    conn.commit()\n",
    "    print(\"Transaction committed successfully. All changes applied.\")\n",
    "\n",
    "    display(df.head())\n",
    "    print(\"\\nOutliers detected:\")\n",
    "    display(outliers.head())\n",
    "\n",
    "except Exception as e:\n",
    "    # Rollback transaction if any error occurs\n",
    "    conn.rollback()\n",
    "    print(\"Error occurred. Transaction rolled back.\")\n",
    "    print(str(e))\n",
    "\n",
    "finally:\n",
    "    cursor.close()\n",
    "    conn.close()\n",
    "\n"
   ]
  },
  {
   "cell_type": "code",
   "execution_count": 6,
   "id": "9b6d9a5d",
   "metadata": {},
   "outputs": [
    {
     "data": {
      "image/png": "[encoded data removed]",
      "text/plain": [
       "<Figure size 1000x600 with 1 Axes>"
      ]
     },
     "metadata": {},
     "output_type": "display_data"
    }
   ],
   "source": [
    "# Load outliers from DB\n",
    "conn = sqlite3.connect(\"Pesticide_Uses_ZA.db\")\n",
    "outliers = pd.read_sql_query(\"SELECT * FROM Outliers_Detected;\", conn)\n",
    "conn.close()\n",
    "\n",
    "plt.figure(figsize=(10,6))\n",
    "sns.scatterplot(x='Tonnes', y='Kg_per_ha', hue='Pesticide_Type', data=df, palette=\"Set2\")\n",
    "plt.scatter(outliers['Tonnes'], outliers['Kg_per_ha'], color='red', label='Outliers', s=60)\n",
    "plt.title(\"Tonnes vs Kg_per_ha with Outliers Highlighted\", fontsize=16)\n",
    "plt.xlabel(\"Tonnes\", fontsize=12)\n",
    "plt.ylabel(\"Kg per Ha\", fontsize=12)\n",
    "plt.legend()\n",
    "plt.show()\n"
   ]
  },
  {
   "cell_type": "code",
   "execution_count": 20,
   "id": "2b94fc23",
   "metadata": {},
   "outputs": [
    {
     "data": {
      "text/html": [
       "<div>\n",
       "<style scoped>\n",
       "    .dataframe tbody tr th:only-of-type {\n",
       "        vertical-align: middle;\n",
       "    }\n",
       "\n",
       "    .dataframe tbody tr th {\n",
       "        vertical-align: top;\n",
       "    }\n",
       "\n",
       "    .dataframe thead th {\n",
       "        text-align: right;\n",
       "    }\n",
       "</style>\n",
       "<table border=\"1\" class=\"dataframe\">\n",
       "  <thead>\n",
       "    <tr style=\"text-align: right;\">\n",
       "      <th></th>\n",
       "      <th>Decade</th>\n",
       "      <th>Avg_Kg_per_ha</th>\n",
       "    </tr>\n",
       "  </thead>\n",
       "  <tbody>\n",
       "    <tr>\n",
       "      <th>0</th>\n",
       "      <td>1990s</td>\n",
       "      <td>0.84</td>\n",
       "    </tr>\n",
       "    <tr>\n",
       "      <th>1</th>\n",
       "      <td>2000s</td>\n",
       "      <td>1.01</td>\n",
       "    </tr>\n",
       "    <tr>\n",
       "      <th>2</th>\n",
       "      <td>2010s</td>\n",
       "      <td>1.22</td>\n",
       "    </tr>\n",
       "    <tr>\n",
       "      <th>3</th>\n",
       "      <td>2020s</td>\n",
       "      <td>1.98</td>\n",
       "    </tr>\n",
       "  </tbody>\n",
       "</table>\n",
       "</div>"
      ],
      "text/plain": [
       "  Decade  Avg_Kg_per_ha\n",
       "0  1990s           0.84\n",
       "1  2000s           1.01\n",
       "2  2010s           1.22\n",
       "3  2020s           1.98"
      ]
     },
     "metadata": {},
     "output_type": "display_data"
    },
    {
     "name": "stdout",
     "output_type": "stream",
     "text": [
      "Average use per hectare increased by 136.63% from 1990s to 2020s.\n"
     ]
    },
    {
     "data": {
      "image/png": "[encoded data removed]",
      "text/plain": [
       "<Figure size 800x600 with 1 Axes>"
      ]
     },
     "metadata": {},
     "output_type": "display_data"
    }
   ],
   "source": [
    "# Load data from DB\n",
    "conn = sqlite3.connect(\"Pesticide_Uses_ZA.db\")\n",
    "df = pd.read_sql_query(\"SELECT * FROM Pesticide_Uses;\", conn)\n",
    "conn.close()\n",
    "\n",
    "# Create decade labels\n",
    "def get_decade(year):\n",
    "    if 1990 <= year <= 1999:\n",
    "        return \"1990s\"\n",
    "    elif 2000 <= year <= 2009:\n",
    "        return \"2000s\"\n",
    "    elif 2010 <= year <= 2019:\n",
    "        return \"2010s\"\n",
    "    elif 2020 <= year <= 2023:\n",
    "        return \"2020s\"\n",
    "    else:\n",
    "        return \"Other\"\n",
    "\n",
    "df[\"Decade\"] = df[\"Year\"].apply(get_decade)\n",
    "\n",
    "# Average Kg_per_ha per decade\n",
    "avg_decade = (\n",
    "    df.groupby(\"Decade\", as_index=False)[\"Kg_per_ha\"]\n",
    "    .mean()\n",
    "    .rename(columns={\"Kg_per_ha\": \"Avg_Kg_per_ha\"})\n",
    ")\n",
    "\n",
    "display(avg_decade)\n",
    "\n",
    "# Calculated percentage increase from 1990s to 2020s\n",
    "first_decade = avg_decade.loc[avg_decade[\"Decade\"] == \"1990s\", \"Avg_Kg_per_ha\"].values[0]\n",
    "last_decade = avg_decade.loc[avg_decade[\"Decade\"] == \"2020s\", \"Avg_Kg_per_ha\"].values[0]\n",
    "\n",
    "pct_increase = ((last_decade - first_decade) / first_decade) * 100\n",
    "print(f\"Average use per hectare increased by {pct_increase:.2f}% from 1990s to 2020s.\")\n",
    "\n",
    "# Visualization: Bar chart\n",
    "plt.figure(figsize=(8,6))\n",
    "barplot = sns.barplot(x=\"Decade\", y=\"Avg_Kg_per_ha\", data=avg_decade, palette=\"Set2\")\n",
    "\n",
    "# Add value annotations inside each bar\n",
    "for index, row in avg_decade.iterrows():\n",
    "    barplot.text(\n",
    "        index,\n",
    "        row.Avg_Kg_per_ha / 2,\n",
    "        f\"{row.Avg_Kg_per_ha:.2f}\",\n",
    "        color='white',\n",
    "        ha=\"center\",\n",
    "        va=\"center\",\n",
    "        fontsize=11,\n",
    "        fontweight='bold'\n",
    "    )\n",
    "\n",
    "# Titles and labels\n",
    "plt.title(\"Average Pesticide Use per Hectare by Decade\", fontsize=16)\n",
    "plt.ylabel(\"Avg Kg per Ha\", fontsize=12)\n",
    "plt.xlabel(\"Decade\", fontsize=12)\n",
    "plt.xticks(fontsize=11)\n",
    "plt.yticks(fontsize=11)\n",
    "\n",
    "plt.show()\n"
   ]
  }
 ],
 "metadata": {
  "kernelspec": {
   "display_name": "Python 3",
   "language": "python",
   "name": "python3"
  },
  "language_info": {
   "codemirror_mode": {
    "name": "ipython",
    "version": 3
   },
   "file_extension": ".py",
   "mimetype": "text/x-python",
   "name": "python",
   "nbconvert_exporter": "python",
   "pygments_lexer": "ipython3",
   "version": "3.13.2"
  }
 },
 "nbformat": 4,
 "nbformat_minor": 5
}
